{
 "cells": [
  {
   "cell_type": "markdown",
   "metadata": {
    "slideshow": {
     "slide_type": "slide"
    }
   },
   "source": [
    "# 🐍 Python 1 | Basics\n",
    "\n",
    "## Dieses Notizbuch verwenden:\n",
    "\n",
    "1. <https://nbviewer.jupyter.org/github/gymnasium-immensee/python> besuchen\n",
    "1. Die entsprechende Datei (xy.ipynb) öffnen (hier sieht man bereits eine statische Vorschau)\n",
    "1. Oben rechts auf die drei Ringe «Execute on Binder» klicken\n",
    "1. Nach einem Moment kann man den Code beliebig anpassen und laufen lassen (Änderungen werden nicht gespeichert)\n",
    "\n",
    "🚀 Optional könnte man Jupyter auch lokal installieren, in dem man [Anaconda](https://www.anaconda.com) installiert."
   ]
  },
  {
   "cell_type": "markdown",
   "metadata": {
    "slideshow": {
     "slide_type": "slide"
    }
   },
   "source": [
    "## Geschichte von Python\n",
    "\n",
    "* Entstehung / Anwendung\n",
    "* Verbreitung\n",
    "* Zukünftige, konkrete Möglichkeiten / Ausblick\n",
    "* Ziele\n",
    "* Vergleich mit Scratch"
   ]
  },
  {
   "cell_type": "markdown",
   "metadata": {
    "slideshow": {
     "slide_type": "slide"
    }
   },
   "source": [
    "## 🐅 TigerJython einrichten\n",
    "\n",
    "* entweder kann man TigerJython direkt online verwenden: [webtigerjython.ethz.ch](https://webtigerjython.ethz.ch/)\n",
    "* oder man installiert TigerJython lokal (Windows/Mac/Linux): [tjgroup.ch](http://www.tjgroup.ch/download-de1.html)"
   ]
  },
  {
   "cell_type": "markdown",
   "metadata": {},
   "source": [
    "## Grundsätzliches"
   ]
  },
  {
   "cell_type": "code",
   "execution_count": 3,
   "metadata": {},
   "outputs": [
    {
     "name": "stdout",
     "output_type": "stream",
     "text": [
      "Hello\n"
     ]
    }
   ],
   "source": [
    "# Das ist ein Kommentar\n",
    "\n",
    "# Die folgende Zeile gibt «Hello» aus:\n",
    "print(\"Hello\")"
   ]
  },
  {
   "cell_type": "markdown",
   "metadata": {},
   "source": [
    "### 🐢 Turtle Befehle\n",
    "\n",
    "``` python\n",
    "# die beiden Zeilen werden immer benötigt:\n",
    "from gturtle import * # lädt die Turtle\n",
    "makeTurtle()          # öffnet Fenster zum Zeichnen\n",
    "\n",
    "# hier folgen die weiteren Befehle:\n",
    "forward(150) # 150 Schritte vorwärts\n",
    "back(17)     # 17 Schritte rückwärts\n",
    "left(120)    # 120° nach links\n",
    "right(90)    # 90° nach rechts\n",
    "```\n",
    "\n",
    "➡️ Beispiele 1, 2, 3 & 4\n"
   ]
  },
  {
   "cell_type": "markdown",
   "metadata": {
    "slideshow": {
     "slide_type": "slide"
    }
   },
   "source": [
    "### Farbe & Stiftbreite\n",
    "\n",
    "[Alle Farben](https://trinket.io/docs/colors)\n",
    "\n",
    "``` python\n",
    "from gturtle import *\n",
    "makeTurtle()\n",
    "setPenWidth(5) # 5 Pixel breit\n",
    "\n",
    "setPenColor(\"yellow\")\n",
    "forward(100)\n",
    "left(120)\n",
    "\n",
    "setPenColor(\"red\")\n",
    "forward(100)\n",
    "left(120)\n",
    "\n",
    "setPenColor(\"blue\")\n",
    "forward(100)\n",
    "left(120)\n",
    "```\n",
    "➡️ Beispiel 5"
   ]
  },
  {
   "cell_type": "markdown",
   "metadata": {
    "slideshow": {
     "slide_type": "slide"
    }
   },
   "source": [
    "## Programme, die mit Text arbeiten\n",
    "Diese Code-Schnipsel kann man direkt im Notizbuch laufen lassen. ⚠️ `print(\"Text\")` entspricht Python 3, `print \"Text\"` Python 2.\n",
    "\n",
    "➡️ Beispiele 6, 7 & 8"
   ]
  },
  {
   "cell_type": "code",
   "execution_count": 26,
   "metadata": {},
   "outputs": [
    {
     "name": "stdout",
     "output_type": "stream",
     "text": [
      "Was machst du?\n",
      "Ich programmiere.\n"
     ]
    }
   ],
   "source": [
    "print(\"Was machst du?\")\n",
    "print(\"Ich programmiere.\")"
   ]
  },
  {
   "cell_type": "code",
   "execution_count": 29,
   "metadata": {},
   "outputs": [
    {
     "name": "stdout",
     "output_type": "stream",
     "text": [
      "Was machst du? Ich programmiere.\n"
     ]
    }
   ],
   "source": [
    "print(\"Was machst du?\", end=\" \") # entspricht der Komma-Variante für Python 2\n",
    "print(\"Ich programmiere.\")"
   ]
  },
  {
   "cell_type": "code",
   "execution_count": 27,
   "metadata": {},
   "outputs": [
    {
     "name": "stdout",
     "output_type": "stream",
     "text": [
      "Was machst du?\n",
      "Ich programmiere.\n"
     ]
    }
   ],
   "source": [
    "print(\"Was machst du?\\nIch programmiere.\") # \"\\n\" bewirkt einen Zeilenumbruch"
   ]
  },
  {
   "cell_type": "code",
   "execution_count": 32,
   "metadata": {
    "slideshow": {
     "slide_type": "slide"
    }
   },
   "outputs": [
    {
     "name": "stdout",
     "output_type": "stream",
     "text": [
      "Ich programmiere! Ich programmiere! \n",
      "===================================\n"
     ]
    }
   ],
   "source": [
    "print(\"Ich programmiere! \" * 2)\n",
    "print(\"=\" * 35)"
   ]
  },
  {
   "cell_type": "code",
   "execution_count": 33,
   "metadata": {},
   "outputs": [
    {
     "name": "stdout",
     "output_type": "stream",
     "text": [
      "Ich programmiere! Ich programmiere! \n",
      "===================================\n"
     ]
    }
   ],
   "source": [
    "print(\"Ich programmiere! \" * 2 + \"\\n\" + \"=\" * 35)"
   ]
  },
  {
   "cell_type": "code",
   "execution_count": 35,
   "metadata": {
    "slideshow": {
     "slide_type": "slide"
    }
   },
   "outputs": [
    {
     "name": "stdout",
     "output_type": "stream",
     "text": [
      "X     X\n",
      " X   X \n",
      "  X X  \n",
      "   X   \n"
     ]
    }
   ],
   "source": [
    "# Beispiel 7\n",
    "\n",
    "print(\"X     X\")\n",
    "print(\" X   X \")\n",
    "print(\"  X X  \")\n",
    "print(\"   X   \")"
   ]
  },
  {
   "cell_type": "code",
   "execution_count": 38,
   "metadata": {},
   "outputs": [
    {
     "name": "stdout",
     "output_type": "stream",
     "text": [
      "X     X\n",
      " X   X\n",
      "  X X\n",
      "   X\n"
     ]
    }
   ],
   "source": [
    "# Beispiel 7\n",
    "\n",
    "print(\"X\"   + \" \" * 5 + \"X\")\n",
    "print(\" X\"  + \" \" * 3 + \"X\")\n",
    "print(\"  X\" + \" \" * 1 + \"X\")\n",
    "print(\"   X\")"
   ]
  },
  {
   "cell_type": "code",
   "execution_count": 41,
   "metadata": {
    "slideshow": {
     "slide_type": "slide"
    }
   },
   "outputs": [
    {
     "name": "stdout",
     "output_type": "stream",
     "text": [
      "   X\n",
      "  XXX\n",
      " XXXXX\n",
      "XXXXXXX\n",
      "   X\n",
      "   X\n",
      "\n"
     ]
    }
   ],
   "source": [
    "# Beispiel 8\n",
    "\n",
    "print(\" \" * 3 + \"X\")\n",
    "print(\" \" * 2 + \"X\" * 3)\n",
    "print(\" \" * 1 + \"X\" * 5)\n",
    "print(\"X\" * 7)\n",
    "print(\"   X\\n\" * 2)"
   ]
  },
  {
   "cell_type": "markdown",
   "metadata": {
    "slideshow": {
     "slide_type": "slide"
    }
   },
   "source": [
    "## Programme, die rechnen\n",
    "\n",
    "➡️ Beispiele 9 & 10"
   ]
  },
  {
   "cell_type": "code",
   "execution_count": 5,
   "metadata": {},
   "outputs": [
    {
     "name": "stdout",
     "output_type": "stream",
     "text": [
      "(163 * 3) - (77 * 4) ist genau 181\n",
      "4 geteilt durch (1 + 1) =  2.0\n",
      "Rest von 4 geteilt durch 3 =  1\n"
     ]
    }
   ],
   "source": [
    "print(\"(163 * 3) - (77 * 4) ist genau\", end=\" \") # Vorausgehende Textausgabe\n",
    "print( (163 * 3) - (77 * 4))                     # Berechnung & Ausgabe\n",
    "\n",
    "print(\"4 geteilt durch (1 + 1) = \", end=\" \")    # Bruchrechnen und Zusammenzählen\n",
    "print(4 / (1 + 1))\n",
    "\n",
    "print(\"Rest von 4 geteilt durch 3 = \", end=\" \")    # Modulo\n",
    "print(4 % 3)\n"
   ]
  },
  {
   "cell_type": "code",
   "execution_count": null,
   "metadata": {},
   "outputs": [],
   "source": []
  }
 ],
 "metadata": {
  "celltoolbar": "Slideshow",
  "kernelspec": {
   "display_name": "Python 3",
   "language": "python",
   "name": "python3"
  },
  "language_info": {
   "codemirror_mode": {
    "name": "ipython",
    "version": 3
   },
   "file_extension": ".py",
   "mimetype": "text/x-python",
   "name": "python",
   "nbconvert_exporter": "python",
   "pygments_lexer": "ipython3",
   "version": "3.7.4"
  }
 },
 "nbformat": 4,
 "nbformat_minor": 2
}
