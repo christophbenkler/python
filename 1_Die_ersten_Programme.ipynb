{
 "cells": [
  {
   "cell_type": "markdown",
   "metadata": {
    "slideshow": {
     "slide_type": "slide"
    }
   },
   "source": [
    "# Python 1 | Die ersten Programme"
   ]
  },
  {
   "cell_type": "markdown",
   "metadata": {
    "slideshow": {
     "slide_type": "slide"
    }
   },
   "source": [
    "## Zeichnen mit der Schildkröte\n",
    "🐢 Turtle-Code kann man auf [webtigerjython.ethz.ch](https://webtigerjython.ethz.ch/) ausführen."
   ]
  },
  {
   "cell_type": "markdown",
   "metadata": {},
   "source": [
    "### Beispiel 1 | Grundlegende Befehle\n",
    "\n",
    "``` python\n",
    "# die beiden Zeilen werden immer benötigt:\n",
    "from gturtle import * # lädt die Turtle\n",
    "makeTurtle()          # öffnet Fenster zum Zeichnen\n",
    "\n",
    "# hier folgen die weiteren Befehle:\n",
    "forward(150) # 150 Schritte vorwärts\n",
    "back(17)     # 17 Schritte rückwärts\n",
    "left(120)    # 120° nach links\n",
    "right(90)    # 90° nach rechts\n",
    "```"
   ]
  },
  {
   "cell_type": "markdown",
   "metadata": {
    "slideshow": {
     "slide_type": "slide"
    }
   },
   "source": [
    "### Beispiel 2 | Rechteck 100 x 200\n",
    "\n",
    "``` python\n",
    "\n",
    "```"
   ]
  },
  {
   "cell_type": "markdown",
   "metadata": {
    "slideshow": {
     "slide_type": "slide"
    }
   },
   "source": [
    "### Beispiel 3 | ein weiteres Rechteck\n",
    "\n",
    "``` python\n",
    "\n",
    "```"
   ]
  },
  {
   "cell_type": "markdown",
   "metadata": {
    "slideshow": {
     "slide_type": "slide"
    }
   },
   "source": [
    "### Pixel"
   ]
  },
  {
   "cell_type": "markdown",
   "metadata": {
    "slideshow": {
     "slide_type": "slide"
    }
   },
   "source": [
    "### Beispiel 4 | Regelmässiges Sechseck\n",
    "\n",
    "``` python\n",
    "\n",
    "```"
   ]
  },
  {
   "cell_type": "markdown",
   "metadata": {
    "slideshow": {
     "slide_type": "slide"
    }
   },
   "source": [
    "### Beispiel 5 | Farbe & Stiftbreite\n",
    "\n",
    "[Alle Farben](https://trinket.io/docs/colors)\n",
    "\n",
    "``` python\n",
    "from gturtle import *\n",
    "makeTurtle()\n",
    "setPenWidth(5) # 5 Pixel breit\n",
    "\n",
    "setPenColor(\"yellow\")\n",
    "forward(100)\n",
    "left(120)\n",
    "\n",
    "setPenColor(\"red\")\n",
    "forward(100)\n",
    "left(120)\n",
    "\n",
    "setPenColor(\"blue\")\n",
    "forward(100)\n",
    "left(120)\n",
    "```"
   ]
  },
  {
   "cell_type": "markdown",
   "metadata": {
    "slideshow": {
     "slide_type": "slide"
    }
   },
   "source": [
    "## Programme, die mit Text arbeiten\n",
    "Diese Code-Schnipsel kann man direkt im Notizbuch laufen lassen. ⚠️ `print(\"Text\")` entspricht Python 3, `print \"Text\"` Python 2."
   ]
  },
  {
   "cell_type": "markdown",
   "metadata": {},
   "source": [
    "### Beispiel 6 | Text ausgeben & wiederholen"
   ]
  },
  {
   "cell_type": "code",
   "execution_count": 26,
   "metadata": {},
   "outputs": [
    {
     "name": "stdout",
     "output_type": "stream",
     "text": [
      "Was machst du?\n",
      "Ich programmiere.\n"
     ]
    }
   ],
   "source": [
    "print(\"Was machst du?\")\n",
    "print(\"Ich programmiere.\")"
   ]
  },
  {
   "cell_type": "code",
   "execution_count": 29,
   "metadata": {},
   "outputs": [
    {
     "name": "stdout",
     "output_type": "stream",
     "text": [
      "Was machst du? Ich programmiere.\n"
     ]
    }
   ],
   "source": [
    "print(\"Was machst du?\", end=\" \") # entspricht der Komma-Variante für Python 2\n",
    "print(\"Ich programmiere.\")"
   ]
  },
  {
   "cell_type": "code",
   "execution_count": 27,
   "metadata": {},
   "outputs": [
    {
     "name": "stdout",
     "output_type": "stream",
     "text": [
      "Was machst du?\n",
      "Ich programmiere.\n"
     ]
    }
   ],
   "source": [
    "print(\"Was machst du?\\nIch programmiere.\") # \"\\n\" bewirkt einen Zeilenumbruch"
   ]
  },
  {
   "cell_type": "code",
   "execution_count": 32,
   "metadata": {
    "slideshow": {
     "slide_type": "slide"
    }
   },
   "outputs": [
    {
     "name": "stdout",
     "output_type": "stream",
     "text": [
      "Ich programmiere! Ich programmiere! \n",
      "===================================\n"
     ]
    }
   ],
   "source": [
    "print(\"Ich programmiere! \" * 2)\n",
    "print(\"=\" * 35)"
   ]
  },
  {
   "cell_type": "code",
   "execution_count": 33,
   "metadata": {},
   "outputs": [
    {
     "name": "stdout",
     "output_type": "stream",
     "text": [
      "Ich programmiere! Ich programmiere! \n",
      "===================================\n"
     ]
    }
   ],
   "source": [
    "print(\"Ich programmiere! \" * 2 + \"\\n\" + \"=\" * 35)"
   ]
  },
  {
   "cell_type": "markdown",
   "metadata": {
    "slideshow": {
     "slide_type": "slide"
    }
   },
   "source": [
    "### Beispiel 7 | «V» zeichnen"
   ]
  },
  {
   "cell_type": "code",
   "execution_count": 35,
   "metadata": {},
   "outputs": [
    {
     "name": "stdout",
     "output_type": "stream",
     "text": [
      "X     X\n",
      " X   X \n",
      "  X X  \n",
      "   X   \n"
     ]
    }
   ],
   "source": [
    "print(\"X     X\")\n",
    "print(\" X   X \")\n",
    "print(\"  X X  \")\n",
    "print(\"   X   \")"
   ]
  },
  {
   "cell_type": "code",
   "execution_count": 38,
   "metadata": {},
   "outputs": [
    {
     "name": "stdout",
     "output_type": "stream",
     "text": [
      "X     X\n",
      " X   X\n",
      "  X X\n",
      "   X\n"
     ]
    }
   ],
   "source": [
    "print(\"X\"   + \" \" * 5 + \"X\")\n",
    "print(\" X\"  + \" \" * 3 + \"X\")\n",
    "print(\"  X\" + \" \" * 1 + \"X\")\n",
    "print(\"   X\")"
   ]
  },
  {
   "cell_type": "markdown",
   "metadata": {
    "slideshow": {
     "slide_type": "slide"
    }
   },
   "source": [
    "### Beispiel 8 | 🎄"
   ]
  },
  {
   "cell_type": "code",
   "execution_count": 41,
   "metadata": {},
   "outputs": [
    {
     "name": "stdout",
     "output_type": "stream",
     "text": [
      "   X\n",
      "  XXX\n",
      " XXXXX\n",
      "XXXXXXX\n",
      "   X\n",
      "   X\n",
      "\n"
     ]
    }
   ],
   "source": [
    "print(\" \" * 3 + \"X\")\n",
    "print(\" \" * 2 + \"X\" * 3)\n",
    "print(\" \" * 1 + \"X\" * 5)\n",
    "print(\"X\" * 7)\n",
    "print(\"   X\\n\" * 2)"
   ]
  },
  {
   "cell_type": "markdown",
   "metadata": {
    "slideshow": {
     "slide_type": "slide"
    }
   },
   "source": [
    "## Programme, die rechnen"
   ]
  },
  {
   "cell_type": "markdown",
   "metadata": {},
   "source": [
    "### Beispiel 9 | Rechnen"
   ]
  },
  {
   "cell_type": "code",
   "execution_count": 50,
   "metadata": {},
   "outputs": [
    {
     "name": "stdout",
     "output_type": "stream",
     "text": [
      "(163 * 3) - (77 * 4) ist genau 181\n",
      "4 geteilt durch (1 + 1) =  2.0\n"
     ]
    }
   ],
   "source": [
    "print(\"(163 * 3) - (77 * 4) ist genau\", end=\" \") # Vorausgehende Textausgabe\n",
    "print( (163 * 3) - (77 * 4))                     # Berechnung & Ausgabe\n",
    "\n",
    "print(\"4 geteilt durch (1 + 1) = \", end=\" \")    # Bruchrechnen und Zusammenzählen\n",
    "print(4 / (1 + 1))"
   ]
  },
  {
   "cell_type": "markdown",
   "metadata": {},
   "source": [
    "### Beispiel 10 | Rechnen mit Turtle\n",
    "\n",
    "```python\n",
    "\n",
    "```"
   ]
  }
 ],
 "metadata": {
  "celltoolbar": "Slideshow",
  "kernelspec": {
   "display_name": "Python 3",
   "language": "python",
   "name": "python3"
  },
  "language_info": {
   "codemirror_mode": {
    "name": "ipython",
    "version": 3
   },
   "file_extension": ".py",
   "mimetype": "text/x-python",
   "name": "python",
   "nbconvert_exporter": "python",
   "pygments_lexer": "ipython3",
   "version": "3.7.4"
  }
 },
 "nbformat": 4,
 "nbformat_minor": 2
}
