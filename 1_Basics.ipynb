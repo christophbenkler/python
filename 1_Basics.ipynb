{
 "cells": [
  {
   "cell_type": "markdown",
   "metadata": {
    "slideshow": {
     "slide_type": "slide"
    }
   },
   "source": [
    "# Python 1 | Basics\n",
    "\n",
    "### 🗒 Das Notizbuch interaktiv verwenden:\n",
    "\n",
    "1. 🔗 [Hier klicken, um «Binder» zu öffnen](https://mybinder.org/v2/gh/gymnasium-immensee/binder/master?urlpath=git-pull%3Frepo%3Dhttps%253A%252F%252Fgithub.com%252Fgymnasium-immensee%252Fpython%26urlpath%3Dtree%252Fpython%252F%26branch%3Dmaster)\n",
    "1. Die entsprechende Datei (xy.ipynb) öffnen\n",
    "1. Hier kann man den Code beliebig anpassen und laufen lassen, wobei Änderungen nicht gespeichert werden\n",
    "\n",
    "🚀 Optional könnte man Jupyter auch lokal installieren, in dem man [Anaconda](https://www.anaconda.com) installiert."
   ]
  },
  {
   "cell_type": "markdown",
   "metadata": {
    "slideshow": {
     "slide_type": "slide"
    }
   },
   "source": [
    "### 📜 Geschichte von Python\n",
    "\n",
    "* Entstehung / Anwendung\n",
    "* Verbreitung\n",
    "* Zukünftige, konkrete Möglichkeiten / Ausblick\n",
    "* Ziele\n",
    "* Vergleich mit Scratch"
   ]
  },
  {
   "cell_type": "markdown",
   "metadata": {
    "slideshow": {
     "slide_type": "slide"
    }
   },
   "source": [
    "### 🐅 TigerJython einrichten\n",
    "\n",
    "* entweder kann man TigerJython direkt online verwenden: [webtigerjython.ethz.ch](https://webtigerjython.ethz.ch/)\n",
    "* oder man installiert TigerJython lokal (Windows/Mac/Linux): [tjgroup.ch](http://www.tjgroup.ch/download-de1.html)"
   ]
  },
  {
   "cell_type": "markdown",
   "metadata": {},
   "source": [
    "### 💬 Kommentare"
   ]
  },
  {
   "cell_type": "code",
   "execution_count": 52,
   "metadata": {},
   "outputs": [
    {
     "name": "stdout",
     "output_type": "stream",
     "text": [
      "Hello\n"
     ]
    }
   ],
   "source": [
    "# Das ist ein Kommentar\n",
    "\n",
    "# Die folgende Zeile gibt «Hello» aus:\n",
    "print(\"Hello\")"
   ]
  },
  {
   "cell_type": "markdown",
   "metadata": {
    "slideshow": {
     "slide_type": "slide"
    }
   },
   "source": [
    "### 🐢 Turtle Befehle\n",
    "\n",
    "``` python\n",
    "# die beiden Zeilen werden immer benötigt:\n",
    "\n",
    "from gturtle import * # lädt das Turtle Modul\n",
    "makeTurtle()          # öffnet Fenster zum Zeichnen\n",
    "\n",
    "# hier folgen die weiteren Befehle:\n",
    "\n",
    "forward(150) # 150 Schritte vorwärts\n",
    "back(17)     # 17 Schritte rückwärts\n",
    "left(120)    # 120° nach links\n",
    "right(90)    # 90° nach rechts\n",
    "```\n",
    "\n",
    "➡️ Beispiele 1, 2, 3 & 4\n"
   ]
  },
  {
   "cell_type": "markdown",
   "metadata": {
    "slideshow": {
     "slide_type": "slide"
    }
   },
   "source": [
    "### 🎨 Farbe & Stiftbreite\n",
    "\n",
    "[Alle Farben](https://trinket.io/docs/colors)\n",
    "\n",
    "``` python\n",
    "from gturtle import *\n",
    "makeTurtle()\n",
    "setPenWidth(5) # 5 Pixel breit\n",
    "\n",
    "setPenColor(\"yellow\")\n",
    "forward(100)\n",
    "left(120)\n",
    "\n",
    "setPenColor(\"red\")\n",
    "forward(100)\n",
    "left(120)\n",
    "\n",
    "setPenColor(\"blue\")\n",
    "forward(100)\n",
    "left(120)\n",
    "```\n",
    "➡️ Beispiel 5"
   ]
  },
  {
   "cell_type": "markdown",
   "metadata": {
    "slideshow": {
     "slide_type": "slide"
    }
   },
   "source": [
    "### 📝 Text ausgeben\n",
    "Diese Code-Schnipsel kann man direkt im Notizbuch laufen lassen. ⚠️ `print(\"Text\")` entspricht Python 3, `print \"Text\"` Python 2.\n",
    "\n",
    "➡️ Beispiele 6, 7 & 8"
   ]
  },
  {
   "cell_type": "code",
   "execution_count": 53,
   "metadata": {},
   "outputs": [
    {
     "name": "stdout",
     "output_type": "stream",
     "text": [
      "Hello\n",
      "World\n"
     ]
    }
   ],
   "source": [
    "# Ein `print` ~ eine Zeile\n",
    "\n",
    "print(\"Hello\")\n",
    "print(\"World\")"
   ]
  },
  {
   "cell_type": "code",
   "execution_count": 34,
   "metadata": {},
   "outputs": [
    {
     "name": "stdout",
     "output_type": "stream",
     "text": [
      "Hello World\n"
     ]
    }
   ],
   "source": [
    "# So kommen zwei `prints` auf eine Zeile (entspricht Komma Variante bei Python 2)\n",
    "\n",
    "print(\"Hello\", end=\" \")\n",
    "print(\"World\")"
   ]
  },
  {
   "cell_type": "code",
   "execution_count": 4,
   "metadata": {},
   "outputs": [
    {
     "name": "stdout",
     "output_type": "stream",
     "text": [
      "Hello\n",
      "World\n"
     ]
    }
   ],
   "source": [
    "# Mit `\\n` bekommt man innerhalb eines `prints` einen Zeilenumbruch\n",
    "\n",
    "print(\"Hello\\nWorld\")"
   ]
  },
  {
   "cell_type": "code",
   "execution_count": 44,
   "metadata": {},
   "outputs": [
    {
     "name": "stdout",
     "output_type": "stream",
     "text": [
      "🚀 Hello\tWorld\n"
     ]
    }
   ],
   "source": [
    "# 🚀 Optional: Mit `\\t` bekommt man innerhalb eines `prints` einen Tab\n",
    "\n",
    "print(\"🚀 Hello\\tWorld\")"
   ]
  },
  {
   "cell_type": "code",
   "execution_count": 45,
   "metadata": {},
   "outputs": [
    {
     "name": "stdout",
     "output_type": "stream",
     "text": [
      "🚀 Hello \\ World\n"
     ]
    }
   ],
   "source": [
    "# 🚀 Optional: Mit `\\\\` bekommt man einen Backslash\n",
    "\n",
    "print(\"🚀 Hello \\\\ World\")"
   ]
  },
  {
   "cell_type": "code",
   "execution_count": 7,
   "metadata": {
    "slideshow": {
     "slide_type": "slide"
    }
   },
   "outputs": [
    {
     "name": "stdout",
     "output_type": "stream",
     "text": [
      "Hello World Hello World \n",
      "=======================\n"
     ]
    }
   ],
   "source": [
    "# Man kann Texblöcke mehrfach ausgeben\n",
    "\n",
    "print(\"Hello World \" * 2)\n",
    "print(\"=\" * 23)"
   ]
  },
  {
   "cell_type": "markdown",
   "metadata": {},
   "source": [
    "#### 🚀 Optional:\n",
    "Man kann auch den [ASCII](https://de.wikipedia.org/wiki/American_Standard_Code_for_Information_Interchange)/[Unicode](https://home.unicode.org) Wert in ein Zeichen umwandeln:"
   ]
  },
  {
   "cell_type": "code",
   "execution_count": 47,
   "metadata": {},
   "outputs": [
    {
     "name": "stdout",
     "output_type": "stream",
     "text": [
      "🚀\n"
     ]
    }
   ],
   "source": [
    "print(chr(0x1F680))"
   ]
  },
  {
   "cell_type": "code",
   "execution_count": 23,
   "metadata": {
    "slideshow": {
     "slide_type": "-"
    }
   },
   "outputs": [
    {
     "name": "stdout",
     "output_type": "stream",
     "text": [
      "X   X XXXXX X     X     XXXXX\n",
      "X   X X     X     X     X   X\n",
      "XXXXX XXXXX X     X     X   X\n",
      "X   X X     X     X     X   X\n",
      "X   X XXXXX XXXXX XXXXX XXXXX\n"
     ]
    }
   ],
   "source": [
    "print(\"X   X \" + \"X\" * 5 + \" X     X     \" + \"X\"*5)\n",
    "print(\"X   X X     X     X     X   X\")\n",
    "print(\"X\" * 5 + \" \" + \"X\" * 5 + \" \" +  \"X     X     X   X\")\n",
    "print(\"X   X X     X     X     X   X\")\n",
    "print(\"X   X \" + \"X\" * 5 + \" \" + \"X\" * 5 + \" \" + \"X\" * 5 + \" \" + \"X\"*5)"
   ]
  },
  {
   "cell_type": "markdown",
   "metadata": {
    "slideshow": {
     "slide_type": "slide"
    }
   },
   "source": [
    "### 🧮 Rechnen\n",
    "\n",
    "➡️ Beispiele 9 & 10"
   ]
  },
  {
   "cell_type": "code",
   "execution_count": 32,
   "metadata": {},
   "outputs": [
    {
     "name": "stdout",
     "output_type": "stream",
     "text": [
      "(163 * 3) - (77 * 4) = 181\n",
      "4 geteilt durch (1 + 1) =  2.0\n"
     ]
    }
   ],
   "source": [
    "print(\"(163 * 3) - (77 * 4) =\", end=\" \") # Vorausgehende Textausgabe\n",
    "print( (163 * 3) - (77 * 4))                     # Berechnung & Ausgabe\n",
    "\n",
    "print(\"4 geteilt durch (1 + 1) = \", end=\" \")    # Bruchrechnen und Zusammenzählen\n",
    "print(4 / (1 + 1))"
   ]
  },
  {
   "cell_type": "markdown",
   "metadata": {
    "slideshow": {
     "slide_type": "slide"
    }
   },
   "source": [
    "#### 🚀 Optional:\n",
    "\n",
    "* `%` berechnet den Modulo / den Teilen-Rest\n",
    "* Um $\\sqrt{Wurzeln}$ / `sqrt()` für «square root») zu ziehen, benötigt man das Modul `math`:"
   ]
  },
  {
   "cell_type": "code",
   "execution_count": 31,
   "metadata": {},
   "outputs": [
    {
     "name": "stdout",
     "output_type": "stream",
     "text": [
      "Die Wurzel von 4 ist  2.0\n",
      "Rest von 4 geteilt durch 3 =  1\n"
     ]
    }
   ],
   "source": [
    "from math import *\n",
    "\n",
    "print(\"Die Wurzel von 4 ist \", end=\" \")\n",
    "print(sqrt(4))\n",
    "\n",
    "print(\"Rest von 4 geteilt durch 3 = \", end=\" \")\n",
    "print(4 % 3)\n"
   ]
  }
 ],
 "metadata": {
  "celltoolbar": "Slideshow",
  "kernelspec": {
   "display_name": "Python 3",
   "language": "python",
   "name": "python3"
  },
  "language_info": {
   "codemirror_mode": {
    "name": "ipython",
    "version": 3
   },
   "file_extension": ".py",
   "mimetype": "text/x-python",
   "name": "python",
   "nbconvert_exporter": "python",
   "pygments_lexer": "ipython3",
   "version": "3.7.4"
  }
 },
 "nbformat": 4,
 "nbformat_minor": 2
}