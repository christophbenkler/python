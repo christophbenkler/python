{
 "cells": [
  {
   "cell_type": "markdown",
   "metadata": {
    "slideshow": {
     "slide_type": "slide"
    }
   },
   "source": [
    "# Python 3 | Wiederholungen\n",
    "🔗 [interaktiv](https://mybinder.org/v2/gh/gymnasium-immensee/binder/master?urlpath=git-pull%3Frepo%3Dhttps%253A%252F%252Fgithub.com%252Fgymnasium-immensee%252Fpython%26urlpath%3Dtree%252Fpython%252Fnotebooks%26branch%3Dmaster)\n",
    "\n",
    "### Mehr\n",
    "\n",
    "* 🐍 [python-online.ch | Wiederholung](http://www.pythononline.ch/turtle.php?inhalt_links=turtle/navigation.inc.php&inhalt_mitte=turtle/wiederholung.inc.php)\n",
    "* 🆘 [Video-Tutorial zur `for` Schleife](https://www.youtube.com/watch?v=jZxa1IKAgOo&list=PLNmsVeXQZj7q0ao69AIogD94oBgp3E9Zs&index=9)"
   ]
  },
  {
   "cell_type": "markdown",
   "metadata": {
    "slideshow": {
     "slide_type": "slide"
    }
   },
   "source": [
    "### Einfache Schleifen\n",
    "\n",
    "```python\n",
    "repeat 5:\n",
    "    print(\"🔁\")\n",
    "```\n",
    "➡️ Beispiele 1, 2, 3 & 4"
   ]
  },
  {
   "cell_type": "markdown",
   "metadata": {
    "slideshow": {
     "slide_type": "slide"
    }
   },
   "source": [
    "### Kreise zeichnen\n",
    "\n",
    "* Kreis ~ Vieleck mit sehr vielen Ecken\n",
    "* Mögliche Umsetzung:\n",
    "    * 360 mal:\n",
    "        * vorwärts (z.B. 2 Pixel)\n",
    "        * nach rechts (1 Grad)\n",
    "\n",
    "➡️ Beispiele 5 & 6"
   ]
  },
  {
   "cell_type": "markdown",
   "metadata": {},
   "source": [
    "### Der modulare Entwurf mit Schleifen\n",
    "\n",
    "* Schleifen sind beliebig oft ineinander verschachtelbar\n",
    "* So sind komplexere Programme immer noch recht übersichtlich \n",
    "\n",
    "➡️ Beispiele 7, 8, 9, 10"
   ]
  },
  {
   "cell_type": "markdown",
   "metadata": {},
   "source": [
    "### Animationen mit Schleifen\n",
    "\n",
    "* Mit Schleifen werden Animationen erst richtig «lebendig»\n",
    "\n",
    "➡️ Beispiel 11"
   ]
  },
  {
   "cell_type": "markdown",
   "metadata": {},
   "source": [
    "## 🚀 Optionale Extras\n",
    "\n",
    "`repeat` ist keine Standard-Python-Funktion. Stattdessen verwendet man üblicherweise eine `for` Schleife."
   ]
  },
  {
   "cell_type": "code",
   "execution_count": 12,
   "metadata": {},
   "outputs": [
    {
     "name": "stdout",
     "output_type": "stream",
     "text": [
      "🔁\n",
      "🔁\n",
      "🔁\n",
      "🔁\n",
      "🔁\n"
     ]
    }
   ],
   "source": [
    "for i in range(5):\n",
    "    print(\"🔁\")"
   ]
  },
  {
   "cell_type": "code",
   "execution_count": 15,
   "metadata": {},
   "outputs": [
    {
     "name": "stdout",
     "output_type": "stream",
     "text": [
      "0\n",
      "1\n",
      "2\n",
      "3\n",
      "4\n"
     ]
    }
   ],
   "source": [
    "# Der Wert von `i` beginnt bei Null und geht bis eins vor die Zahl in `range(zahl)`:\n",
    "for i in range(5):\n",
    "    print(i)"
   ]
  },
  {
   "cell_type": "code",
   "execution_count": null,
   "metadata": {},
   "outputs": [],
   "source": []
  }
 ],
 "metadata": {
  "celltoolbar": "Slideshow",
  "kernelspec": {
   "display_name": "Python 3",
   "language": "python",
   "name": "python3"
  },
  "language_info": {
   "codemirror_mode": {
    "name": "ipython",
    "version": 3
   },
   "file_extension": ".py",
   "mimetype": "text/x-python",
   "name": "python",
   "nbconvert_exporter": "python",
   "pygments_lexer": "ipython3",
   "version": "3.7.7"
  }
 },
 "nbformat": 4,
 "nbformat_minor": 4
}
