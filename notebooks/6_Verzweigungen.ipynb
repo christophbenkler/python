{
 "cells": [
  {
   "cell_type": "markdown",
   "metadata": {
    "slideshow": {
     "slide_type": "slide"
    }
   },
   "source": [
    "# Python 6 | Verzweigungen\n",
    "🔗 [interaktiv](https://mybinder.org/v2/gh/gymnasium-immensee/binder/master?urlpath=git-pull%3Frepo%3Dhttps%253A%252F%252Fgithub.com%252Fgymnasium-immensee%252Fpython%26urlpath%3Dtree%252Fpython%252Fnotebooks%26branch%3Dmaster)\n",
    "\n",
    "### 🎯 Ziel\n",
    "\n",
    "* Du kannst durch die Verwendung von Verzweigungen Programme so schreiben, dass sie Entscheidungen treffen können.\n",
    "\n",
    "### Mehr\n",
    "\n",
    "* 🐍 [python-online.ch | if-else](http://www.python-online.ch/turtle.php?inhalt_links=turtle/navigation.inc.php&inhalt_mitte=turtle/ifelse.inc.php)\n",
    "* 🐍 [python-online.ch | while / for](http://www.python-online.ch/turtle.php?inhalt_links=turtle/navigation.inc.php&inhalt_mitte=turtle/while.inc.php)\n",
    "* 🆘 [Video-Tutorial zu Verzweigungen](https://www.youtube.com/watch?v=MDxgzWCV3oM&list=PLNmsVeXQZj7q0ao69AIogD94oBgp3E9Zs&index=7)\n",
    "* 🆘 [Video-Tutorial zur `while` Schleife](https://www.youtube.com/watch?v=5FNVcHUjYCM&list=PLNmsVeXQZj7q0ao69AIogD94oBgp3E9Zs&index=8)\n",
    "* 📘 basierend auf [Hromkovič & Kohn, 2018, Einfach Informatik: Programmieren, Klett und Balmer](https://www.klett.ch/lehrwerke/einfach-informatik-7-9)"
   ]
  },
  {
   "cell_type": "markdown",
   "metadata": {
    "slideshow": {
     "slide_type": "slide"
    }
   },
   "source": [
    "### Werte bei der Ausführung eingeben\n",
    "\n",
    "➡️ Beispiele 1 & 2"
   ]
  },
  {
   "cell_type": "code",
   "execution_count": 1,
   "metadata": {},
   "outputs": [
    {
     "name": "stdin",
     "output_type": "stream",
     "text": [
      "Was für einen Salat möchtest du? 5\n",
      "Und wie viel? 4\n"
     ]
    },
    {
     "name": "stdout",
     "output_type": "stream",
     "text": [
      "5555\n"
     ]
    }
   ],
   "source": [
    "salat_typ = input(\"Was für einen Salat möchtest du?\")\n",
    "salat_menge = input(\"Und wie viel?\")\n",
    "\n",
    "print(salat_typ*int(salat_menge))"
   ]
  },
  {
   "cell_type": "markdown",
   "metadata": {
    "slideshow": {
     "slide_type": "slide"
    }
   },
   "source": [
    "### Befehl ausführen, wenn ...\n",
    "\n",
    "➡️ Beispiele 3, 4, 5"
   ]
  },
  {
   "cell_type": "code",
   "execution_count": 2,
   "metadata": {},
   "outputs": [
    {
     "name": "stdin",
     "output_type": "stream",
     "text": [
      "Wie ist das Wetter? 5\n"
     ]
    }
   ],
   "source": [
    "wetter = input(\"Wie ist das Wetter?\")\n",
    "\n",
    "if wetter == \"☀️\":\n",
    "    print(\"Bitte 🕶 einpacken\")"
   ]
  },
  {
   "cell_type": "markdown",
   "metadata": {},
   "source": [
    "### Zwischen zwei Alternativen entscheiden\n",
    "\n",
    "➡️ 6 & 7"
   ]
  },
  {
   "cell_type": "code",
   "execution_count": 3,
   "metadata": {},
   "outputs": [
    {
     "name": "stdin",
     "output_type": "stream",
     "text": [
      "Wie ist das Wetter? 5\n"
     ]
    },
    {
     "name": "stdout",
     "output_type": "stream",
     "text": [
      "Ich kenne nur dieses Wetter: 🌞\n"
     ]
    }
   ],
   "source": [
    "wetter = input(\"Wie ist das Wetter?\")\n",
    "\n",
    "if wetter == \"🌞\":\n",
    "    print(\"Bitte 🕶 einpacken\")\n",
    "    \n",
    "else:\n",
    "    print(\"Ich kenne nur dieses Wetter: 🌞\")"
   ]
  },
  {
   "cell_type": "markdown",
   "metadata": {},
   "source": [
    "#### Noch mehr Alternativen"
   ]
  },
  {
   "cell_type": "code",
   "execution_count": 1,
   "metadata": {},
   "outputs": [
    {
     "name": "stdin",
     "output_type": "stream",
     "text": [
      "Wie ist das Wetter? 🌞\n"
     ]
    },
    {
     "name": "stdout",
     "output_type": "stream",
     "text": [
      "Bitte 🕶 einpacken\n"
     ]
    }
   ],
   "source": [
    "wetter = input(\"Wie ist das Wetter?\")\n",
    "\n",
    "if wetter == \"🌞\":\n",
    "    print(\"Bitte 🕶 einpacken\")\n",
    "    \n",
    "elif wetter == \"🌦\":\n",
    "    print(\"Bitte ☔️ einpacken\")\n",
    "    \n",
    "elif wetter == \"🌨\":\n",
    "    print(\"Bitte 🧣 einpacken\")\n",
    "    \n",
    "else:\n",
    "    print(\"Dieses Wetter kenne ich nicht\")"
   ]
  },
  {
   "cell_type": "markdown",
   "metadata": {},
   "source": [
    "### Bedingung in Schleifen\n",
    "\n",
    "➡️ Beispiele 8, 9, 10 A, 10 B"
   ]
  },
  {
   "cell_type": "markdown",
   "metadata": {},
   "source": [
    "#### Zufallszahl finden V1"
   ]
  },
  {
   "cell_type": "code",
   "execution_count": 10,
   "metadata": {},
   "outputs": [
    {
     "name": "stdin",
     "output_type": "stream",
     "text": [
      "Errate die Zufallszahl zwischen 1 und 10. Du hast total 3 Versuche. 5\n"
     ]
    },
    {
     "name": "stdout",
     "output_type": "stream",
     "text": [
      "Zu niedrig.\n"
     ]
    },
    {
     "name": "stdin",
     "output_type": "stream",
     "text": [
      "Errate die Zufallszahl zwischen 1 und 10. Du hast total 3 Versuche. 8\n"
     ]
    },
    {
     "name": "stdout",
     "output_type": "stream",
     "text": [
      "Ganz genau! 👏\n"
     ]
    },
    {
     "name": "stdin",
     "output_type": "stream",
     "text": [
      "Errate die Zufallszahl zwischen 1 und 10. Du hast total 3 Versuche. 8\n"
     ]
    },
    {
     "name": "stdout",
     "output_type": "stream",
     "text": [
      "Ganz genau! 👏\n"
     ]
    }
   ],
   "source": [
    "import random                           # 🆕 importiert ein Modul, um Zufallszahlen zu erzeugen\n",
    "zufalls_zahl = random.randint(1,10)     # 🆕 zufällige ganze Zahl zwischen 1 und 10\n",
    "\n",
    "for i in range(0,3):\n",
    "\n",
    "    zahl = int(input(\"Errate die Zufallszahl zwischen 1 und 10. Du hast total 3 Versuche.\"))\n",
    "\n",
    "    if zahl == zufalls_zahl:            # Zahl gefunden\n",
    "        print(\"Ganz genau! 👏\")\n",
    "\n",
    "    elif zahl < zufalls_zahl:           # Zahl ist zu niedrig\n",
    "        print(\"Zu niedrig.\")\n",
    "        \n",
    "    else:                               # Zahl ist zu hoch\n",
    "        print(\"Zu hoch.\")"
   ]
  },
  {
   "cell_type": "markdown",
   "metadata": {},
   "source": [
    "Aktuell hört das Programm nach 3x einfach auf.\n",
    "👉 Was würdest du ändern, damit am Schluss\n",
    "\"Gewonnen! 🎈\" oder \"Leider verloren. 😭\"\n",
    "ausgegeben wird?"
   ]
  },
  {
   "cell_type": "markdown",
   "metadata": {},
   "source": [
    "#### Zufallszahl finden V2"
   ]
  },
  {
   "cell_type": "code",
   "execution_count": 11,
   "metadata": {},
   "outputs": [
    {
     "name": "stdin",
     "output_type": "stream",
     "text": [
      "Errate die Zufallszahl zwischen 1 und 10. Du hast total 3 Versuche. 5\n"
     ]
    },
    {
     "name": "stdout",
     "output_type": "stream",
     "text": [
      "Zu hoch.\n"
     ]
    },
    {
     "name": "stdin",
     "output_type": "stream",
     "text": [
      "Errate die Zufallszahl zwischen 1 und 10. Du hast total 3 Versuche. 3\n"
     ]
    },
    {
     "name": "stdout",
     "output_type": "stream",
     "text": [
      "Zu niedrig.\n"
     ]
    },
    {
     "name": "stdin",
     "output_type": "stream",
     "text": [
      "Errate die Zufallszahl zwischen 1 und 10. Du hast total 3 Versuche. 4\n"
     ]
    },
    {
     "name": "stdout",
     "output_type": "stream",
     "text": [
      "Ganz genau! 👏\n",
      "Gewonnen! 🎈\n"
     ]
    }
   ],
   "source": [
    "import random                           # importiert ein Modul, um Zufallszahlen zu erzeugen\n",
    "zufalls_zahl = random.randint(1,10)     # zufällige ganze Zahl zwischen 1 und 10\n",
    "gewonnen = False                        # 🆕 Setzt die Variable «gewonnen» auf «falsch»\n",
    "\n",
    "for i in range(0,3):\n",
    "    \n",
    "    zahl = int(input(\"Errate die Zufallszahl zwischen 1 und 10. Du hast total 3 Versuche.\"))\n",
    "\n",
    "    if zahl == zufalls_zahl:            # Zahl gefunden\n",
    "        print(\"Ganz genau! 👏\")\n",
    "        gewonnen = True                 # 🆕 Setzt die Variable «gewonnen» auf «wahr»\n",
    "\n",
    "    elif zahl < zufalls_zahl:           # Zahl ist zu niedrig\n",
    "        print(\"Zu niedrig.\")\n",
    "        \n",
    "    else:                               # Zahl ist zu hoch\n",
    "        print(\"Zu hoch.\")\n",
    "        \n",
    "if gewonnen:                            # 🆕 Falls man gewonnen hat...\n",
    "    print(\"Gewonnen! 🎈\")               # 🆕 ... wird diese Nachricht ausgegeben.\n",
    "\n",
    "else:                                   # 🆕 sonst...\n",
    "    print(\"Leider verloren. 😭\")        # 🆕 ... wird diese Nachricht ausgegeben."
   ]
  },
  {
   "cell_type": "markdown",
   "metadata": {},
   "source": [
    "Aktuell läuft die Schleife immer 3x, auch \n",
    "wenn die richtige Zahl schon gefunden wurde. \n",
    "👉 Wie würdest du das verbessern? Siehe auch 📗 Seite 93."
   ]
  },
  {
   "cell_type": "markdown",
   "metadata": {},
   "source": [
    "### Logische Operatoren\n",
    "\n",
    "➡️ Beispiele 11, 12, 13\n",
    "\n",
    "| Operator | Ausdruck | Beschreibung        | Liefert `True`, wenn...       |\n",
    "|----------|----------|---------------------|-------------------------------|\n",
    "| >        | a > b    | grösser als         | a grösser ist als b.           |\n",
    "| <        | a < b    | kleiner als         | a kleiner ist als b.           |\n",
    "| ==       | a == b   | gleich              | a und b denselben Wert haben.  |\n",
    "| !=       | a != b   | ungleich            | a und b ungleiche Werte haben. |\n",
    "| >=       | a >= b   | grösser oder gleich | a grösser oder gleich b ist.   |\n",
    "| <=       | a <= b   | kleiner oder gleich | a kleiner oder gleich b ist.   |"
   ]
  },
  {
   "cell_type": "code",
   "execution_count": 6,
   "metadata": {},
   "outputs": [
    {
     "name": "stdout",
     "output_type": "stream",
     "text": [
      "a = 5\n",
      "b= 3\n",
      "------------\n",
      "a > b: True\n",
      "a < b: False\n",
      "a == b: False\n",
      "a != b: True\n",
      "a >= b: True\n",
      "a <= b: False\n"
     ]
    }
   ],
   "source": [
    "a = 5\n",
    "b = 3\n",
    "\n",
    "print(\"a =\",a)\n",
    "print(\"b=\",b)\n",
    "print(\"------------\")\n",
    "\n",
    "print(\"a > b:\", a > b)\n",
    "print(\"a < b:\", a < b)\n",
    "print(\"a == b:\", a == b)\n",
    "print(\"a != b:\", a != b)\n",
    "print(\"a >= b:\", a >= b)\n",
    "print(\"a <= b:\", a <= b)"
   ]
  },
  {
   "cell_type": "markdown",
   "metadata": {},
   "source": [
    "| Operator | Ausdruck | Liefert `True`, wenn...       |\n",
    "|----------|----------|-------------------------------|\n",
    "| `and`    | `a and b`| sowohl a als auch b wahr sind.|\n",
    "| `or`     | `a or b` | mindestens a oder b wahr sind.|\n",
    "| `not`    | `not a`  | a falsch ist                  |"
   ]
  },
  {
   "cell_type": "code",
   "execution_count": 7,
   "metadata": {},
   "outputs": [
    {
     "name": "stdout",
     "output_type": "stream",
     "text": [
      "a = True\n",
      "b= False\n",
      "------------\n",
      "a and b:  False\n",
      "a or b:  True\n",
      "not a:  False\n"
     ]
    }
   ],
   "source": [
    "a = True\n",
    "b = False\n",
    "\n",
    "print(\"a =\",a)\n",
    "print(\"b=\",b)\n",
    "print(\"------------\")\n",
    "\n",
    "print(\"a and b: \", a and b)\n",
    "print(\"a or b: \", a or b)\n",
    "print(\"not a: \", not a)"
   ]
  },
  {
   "cell_type": "markdown",
   "metadata": {},
   "source": [
    "| a       |        b |➡️| a or b  | a and b |\n",
    "|----------|---------||---------|---------|\n",
    "| ✅ true  | ✅ true || ✅ true  | ✅ true  |  \n",
    "| ✅ true  | ❌ false|| ✅ true  | ❌ false |\n",
    "| ❌ false | ✅ true || ✅ true  | ❌ false |\n",
    "| ❌ false | ❌ false|| ❌ false | ❌ false |"
   ]
  },
  {
   "cell_type": "markdown",
   "metadata": {},
   "source": [
    "### Schleifen abbrechen\n",
    "\n",
    "➡️ Beispiele 14, 15, 16\n",
    "\n",
    "`break` bricht ab, und springt ans Ende des Blocks"
   ]
  },
  {
   "cell_type": "markdown",
   "metadata": {},
   "source": [
    "#### Zufallszahl finden V3"
   ]
  },
  {
   "cell_type": "code",
   "execution_count": 12,
   "metadata": {},
   "outputs": [
    {
     "name": "stdin",
     "output_type": "stream",
     "text": [
      "Errate die Zufallszahl zwischen 1 und 10. Du hast total 3 Versuche. 5\n"
     ]
    },
    {
     "name": "stdout",
     "output_type": "stream",
     "text": [
      "Zu niedrig.\n"
     ]
    },
    {
     "name": "stdin",
     "output_type": "stream",
     "text": [
      "Errate die Zufallszahl zwischen 1 und 10. Du hast total 3 Versuche. 8\n"
     ]
    },
    {
     "name": "stdout",
     "output_type": "stream",
     "text": [
      "Ganz genau! 👏\n",
      "Gewonnen! 🎈\n"
     ]
    }
   ],
   "source": [
    "import random                           # importiert ein Modul, um Zufallszahlen zu erzeugen\n",
    "\n",
    "zufalls_zahl = random.randint(1,10)     # zufällige ganze Zahl zwischen 1 und 10\n",
    "gewonnen = False                        # Setzt die Variable «gewonnen» auf «falsch»\n",
    "\n",
    "for i in range(0, 3):\n",
    "    \n",
    "    zahl = int(input(\"Errate die Zufallszahl zwischen 1 und 10. Du hast total 3 Versuche.\"))\n",
    "\n",
    "    if zahl == zufalls_zahl:            # Zahl gefunden\n",
    "        print(\"Ganz genau! 👏\")\n",
    "        gewonnen = True                 # Setzt die Variable «gewonnen» auf «wahr»\n",
    "        break                           # 🆕 Bricht die 'repeat' Schleife ab | siehe 📗 Seite 93\n",
    "        \n",
    "    elif zahl < zufalls_zahl:           # Zahl ist zu niedrig\n",
    "        print(\"Zu niedrig.\")\n",
    "        \n",
    "    else:                               # Zahl ist zu hoch\n",
    "        print(\"Zu hoch.\")\n",
    "        \n",
    "if gewonnen:                            # Falls man gewonnen hat...\n",
    "    print(\"Gewonnen! 🎈\")               # ... wird diese Nachricht ausgegeben.\n",
    "\n",
    "else:                                   # sonst...\n",
    "    print(\"Leider verloren. 😭\")        # ... wird diese Nachricht ausgegeben."
   ]
  },
  {
   "cell_type": "markdown",
   "metadata": {},
   "source": [
    "Aktuell läuft die Schleife höchstens 3x. \n",
    "👉 Wie würdest du das Programm ändern, dass die Schleife\n",
    "so lange weiterläuft, wie du weiterspielen willst?\n",
    "Siehe auch 📗 Seite 96."
   ]
  },
  {
   "cell_type": "markdown",
   "metadata": {},
   "source": [
    "### While-Schleifen\n",
    "\n",
    "* ... laufen, solange die Bedinungen hinter `while()` erfüllt wird.\n",
    "* 🚨 `while(True)` würde ewig laufen (oder bis `break`).\n",
    "\n",
    "➡️ Beispiel 17"
   ]
  },
  {
   "cell_type": "markdown",
   "metadata": {},
   "source": [
    "#### 4 Zufallszahl finden V4"
   ]
  },
  {
   "cell_type": "code",
   "execution_count": 13,
   "metadata": {},
   "outputs": [
    {
     "name": "stdin",
     "output_type": "stream",
     "text": [
      "Errate die Zufallszahl zwischen 1 und 10. Du kannst so lange spielen, wie du willst. 5\n"
     ]
    },
    {
     "name": "stdout",
     "output_type": "stream",
     "text": [
      "Zu hoch.\n"
     ]
    },
    {
     "name": "stdin",
     "output_type": "stream",
     "text": [
      "Willst du weiterspielen? (1/0) 1\n",
      "Errate die Zufallszahl zwischen 1 und 10. Du kannst so lange spielen, wie du willst. 3\n"
     ]
    },
    {
     "name": "stdout",
     "output_type": "stream",
     "text": [
      "Zu niedrig.\n"
     ]
    },
    {
     "name": "stdin",
     "output_type": "stream",
     "text": [
      "Willst du weiterspielen? (1/0) 1\n",
      "Errate die Zufallszahl zwischen 1 und 10. Du kannst so lange spielen, wie du willst. 4\n"
     ]
    },
    {
     "name": "stdout",
     "output_type": "stream",
     "text": [
      "Ganz genau! 👏\n",
      "Gewonnen! 🎈\n"
     ]
    }
   ],
   "source": [
    "import random                           # importiert ein Modul, um Zufallszahlen zu erzeugen\n",
    "\n",
    "zufalls_zahl = random.randint(1,10)     # zufällige ganze Zahl zwischen 1 und 10\n",
    "gewonnen = False                        # Setzt die Variable «gewonnen» auf «falsch»\n",
    "weiter_spielen = True                   # 🆕 Setzt die Variable «weiter_spielen» auf «wahr»\n",
    "\n",
    "while weiter_spielen:                  # 🆕 Die Schleife läuft nun so lange, bis «weiter_spielen» «falsch» ist.  | siehe 📗 Seite 96\n",
    "    \n",
    "    zahl = int(input(\"Errate die Zufallszahl zwischen 1 und 10. Du kannst so lange spielen, wie du willst.\")) # 🆕\n",
    "\n",
    "    if zahl == zufalls_zahl:            # Zahl gefunden\n",
    "        print(\"Ganz genau! 👏\")\n",
    "        gewonnen = True                 # Setzt die Variable «gewonnen» auf «wahr»\n",
    "        break                           # Bricht die 'repeat' Schleife ab | siehe 📗 Seite 93\n",
    "        \n",
    "    elif zahl < zufalls_zahl:           # Zahl ist zu niedrig\n",
    "        print(\"Zu niedrig.\")\n",
    "        weiter_spielen = input(\"Willst du weiterspielen? (1/0)\") # 🆕\n",
    "        \n",
    "    else:                               # Zahl ist zu hoch\n",
    "        print(\"Zu hoch.\")\n",
    "        weiter_spielen = input(\"Willst du weiterspielen? (1/0)\") # 🆕\n",
    "        \n",
    "if gewonnen:                            # Falls man gewonnen hat...\n",
    "    print(\"Gewonnen! 🎈\")               # ... wird diese Nachricht ausgegeben.\n",
    "\n",
    "else:                                   # sonst...\n",
    "    print(\"Leider verloren. 😭\")        # ... wird diese Nachricht ausgegeben."
   ]
  },
  {
   "cell_type": "markdown",
   "metadata": {},
   "source": [
    "Du kennst jetzt:\n",
    "✅ `print`\n",
    "✅ `input`\n",
    "✅ `if` / `elif` / `else`\n",
    "✅ `True` / `False`\n",
    "🆕 `break`\n",
    "🆕 `while`\n",
    "👉 damit kreieren wir jetzt ein weiteres Ratespiel:\n",
    "\n",
    "#### «Tiere raten»"
   ]
  },
  {
   "cell_type": "code",
   "execution_count": 15,
   "metadata": {},
   "outputs": [
    {
     "name": "stdout",
     "output_type": "stream",
     "text": [
      "Willkommen zum Spiel «Tiere raten». Stell dir ein Tier vor, und beantworte die folgenden Fragen mit 1 (✅) oder 0 (❌)\n"
     ]
    },
    {
     "name": "stdin",
     "output_type": "stream",
     "text": [
      "Hat dein Tier eine Wirbelsäule? 1\n",
      "Hat dein Tier Knochen? 1\n",
      "Hat dein Tier Beine? 1\n",
      "Säugt es seine Jungen? 1\n"
     ]
    },
    {
     "name": "stdout",
     "output_type": "stream",
     "text": [
      "🦥\n"
     ]
    }
   ],
   "source": [
    "print(\"Willkommen zum Spiel «Tiere raten». Stell dir ein Tier vor, und beantworte die folgenden Fragen mit 1 (✅) oder 0 (❌)\")\n",
    "\n",
    "while True: # Die Schleife läuft, solange man sie nicht mit `break` abbricht.\n",
    " \n",
    "    wirbelsaeule = input(\"Hat dein Tier eine Wirbelsäule?\")\n",
    "    if wirbelsaeule:\n",
    "\n",
    "        knochen = input(\"Hat dein Tier Knochen?\")\n",
    "        if knochen:\n",
    "\n",
    "            beine = input(\"Hat dein Tier Beine?\")\n",
    "            if beine:\n",
    "\n",
    "                saeugt = input(\"Säugt es seine Jungen?\")\n",
    "                if saeugt:\n",
    "\n",
    "                    print(\"🦥\")\n",
    "                    break\n",
    "\n",
    "                else:\n",
    "                    print(\"🐊\")\n",
    "                    break\n",
    "\n",
    "            else:\n",
    "                giftig = input(\"Ist es giftig?\")\n",
    "                if giftig:\n",
    "\n",
    "                    print(\"🐡\")\n",
    "                    break\n",
    "\n",
    "                else:\n",
    "                    print(\"🐟\")\n",
    "                    break\n",
    "\n",
    "        else:\n",
    "            print(\"🦈\")\n",
    "            break\n",
    "\n",
    "    else:\n",
    "        print(\"🐌\")\n",
    "        break"
   ]
  },
  {
   "cell_type": "markdown",
   "metadata": {},
   "source": [
    "##### Übung:\n",
    "\n",
    "👉 ergänze dieses Spiel um zwei zusätzliche Tiere deiner Wahl\n",
    "\n",
    "##### Projekt:\n",
    "\n",
    "👉 erstellt in Teams ein Ratespiel zu eurem Lieblings-Thema"
   ]
  },
  {
   "cell_type": "markdown",
   "metadata": {},
   "source": [
    "## 🚀 Optionale Extras"
   ]
  },
  {
   "cell_type": "code",
   "execution_count": 2,
   "metadata": {},
   "outputs": [
    {
     "name": "stdout",
     "output_type": "stream",
     "text": [
      "0\n",
      "2\n",
      "4\n",
      "6\n",
      "8\n",
      "10\n",
      "12\n",
      "14\n",
      "16\n",
      "18\n"
     ]
    }
   ],
   "source": [
    "# mit `continue` kann man einzelne Schleifenschritte überspringen\n",
    "\n",
    "for i in range(0,20):\n",
    "    if i%2 == 1: # falls ungerade...\n",
    "        continue # ... nicht ausgeben, alle andern schon\n",
    "    print(i)"
   ]
  },
  {
   "cell_type": "code",
   "execution_count": null,
   "metadata": {},
   "outputs": [],
   "source": []
  }
 ],
 "metadata": {
  "celltoolbar": "Slideshow",
  "kernelspec": {
   "display_name": "Python 3",
   "language": "python",
   "name": "python3"
  },
  "language_info": {
   "codemirror_mode": {
    "name": "ipython",
    "version": 3
   },
   "file_extension": ".py",
   "mimetype": "text/x-python",
   "name": "python",
   "nbconvert_exporter": "python",
   "pygments_lexer": "ipython3",
   "version": "3.7.7"
  }
 },
 "nbformat": 4,
 "nbformat_minor": 4
}
