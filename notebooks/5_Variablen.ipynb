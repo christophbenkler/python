{
 "cells": [
  {
   "cell_type": "markdown",
   "metadata": {
    "slideshow": {
     "slide_type": "slide"
    }
   },
   "source": [
    "# Python 5 | Bausteine\n",
    "🔗 [interaktiv](https://mybinder.org/v2/gh/gymnasium-immensee/binder/master?urlpath=git-pull%3Frepo%3Dhttps%253A%252F%252Fgithub.com%252Fgymnasium-immensee%252Fpython%26urlpath%3Dtree%252Fpython%252Fnotebooks%26branch%3Dmaster)\n",
    "\n",
    "Man kann nicht nur Befehlen einen Namen geben wie z.B. `rechteck`, `farb_quadrat`, `forward`, etc., sondern auch Zahlen, Textschnipsel, Berechnungen, etc. So kann man ein Programm noch besser in einzelne Teilschritte zerlegen, um es noch übersichtlicher und flexibler zu machen."
   ]
  },
  {
   "cell_type": "code",
   "execution_count": 2,
   "metadata": {},
   "outputs": [
    {
     "name": "stdout",
     "output_type": "stream",
     "text": [
      "10\n"
     ]
    }
   ],
   "source": [
    "x = 4\n",
    "y = 6\n",
    "\n",
    "resultat = x + y\n",
    "\n",
    "print(resultat)"
   ]
  },
  {
   "cell_type": "code",
   "execution_count": 7,
   "metadata": {},
   "outputs": [
    {
     "name": "stdout",
     "output_type": "stream",
     "text": [
      "🍓 🍎 🍊\n"
     ]
    }
   ],
   "source": [
    "erdbeere = \"🍓\"\n",
    "apfel = \"🍎\"\n",
    "orange = \"🍊\"\n",
    "\n",
    "def frucht_salat():\n",
    "    print(erdbeere, apfel, orange)\n",
    "    \n",
    "frucht_salat()"
   ]
  },
  {
   "cell_type": "code",
   "execution_count": 9,
   "metadata": {},
   "outputs": [
    {
     "name": "stdout",
     "output_type": "stream",
     "text": [
      "3.605551275463989\n"
     ]
    }
   ],
   "source": [
    "# Satz von Pythagoras\n",
    "\n",
    "import math\n",
    "\n",
    "a = 3.0\n",
    "b = 2.0\n",
    "\n",
    "c_quadrat = a*a + b*b\n",
    "\n",
    "c = math.sqrt(c_quadrat)\n",
    "\n",
    "print(c)"
   ]
  },
  {
   "cell_type": "markdown",
   "metadata": {
    "slideshow": {
     "slide_type": "slide"
    }
   },
   "source": [
    "### Gespeicherte Werte ändern\n",
    "\n",
    "Falls der Wert einer Variablen eine Zahl ist, kann man den Wert auch automatisch verändern: `+=` / `*=`\n",
    "\n",
    "➡️ Beispiele 1, 2, 3"
   ]
  },
  {
   "cell_type": "code",
   "execution_count": 3,
   "metadata": {},
   "outputs": [
    {
     "name": "stdout",
     "output_type": "stream",
     "text": [
      "🍓\n",
      "🍓🍓\n",
      "🍓🍓🍓\n",
      "🍓🍓🍓🍓\n",
      "🍓🍓🍓🍓🍓\n",
      "🍓🍓🍓🍓🍓🍓\n",
      "🍓🍓🍓🍓🍓🍓🍓\n",
      "🍓🍓🍓🍓🍓🍓🍓🍓\n",
      "🍓🍓🍓🍓🍓🍓🍓🍓🍓\n",
      "🍓🍓🍓🍓🍓🍓🍓🍓🍓🍓\n"
     ]
    }
   ],
   "source": [
    "# «von Hand»\n",
    "\n",
    "sweet = \"🍓\"\n",
    "\n",
    "def erdbeeren():\n",
    "    print(erdbeere*1)\n",
    "    print(erdbeere*2)\n",
    "    print(erdbeere*3)\n",
    "    print(erdbeere*4)\n",
    "    print(erdbeere*5)\n",
    "    print(erdbeere*6)\n",
    "    print(erdbeere*7)\n",
    "    print(erdbeere*8)\n",
    "    print(erdbeere*9)\n",
    "    print(erdbeere*10)\n",
    "\n",
    "erdbeeren()"
   ]
  },
  {
   "cell_type": "code",
   "execution_count": 45,
   "metadata": {},
   "outputs": [
    {
     "name": "stdout",
     "output_type": "stream",
     "text": [
      "i\t wie_viel\n",
      "-----------------\n",
      "1 \t 1\n",
      "2 \t 2\n",
      "3 \t 3\n",
      "4 \t 4\n",
      "5 \t 5\n",
      "6 \t 6\n",
      "7 \t 7\n",
      "8 \t 8\n",
      "9 \t 9\n",
      "10 \t 10\n"
     ]
    }
   ],
   "source": [
    "# Wert «wie_viel» wird jedesmal um 1 erhöht\n",
    "\n",
    "erdbeere = \"🍓\"\n",
    "\n",
    "def erdbeeren():\n",
    "    \n",
    "    wie_viel = 1\n",
    "\n",
    "    print(\"i\\t wie_viel\")\n",
    "    print(\"-----------------\")\n",
    "    \n",
    "    for i in range(1,11): # tiger_jython: repeat(10)\n",
    "        print(i, \"\\t\", wie_viel)\n",
    "        wie_viel += 1\n",
    "        \n",
    "erdbeeren()"
   ]
  },
  {
   "cell_type": "markdown",
   "metadata": {
    "slideshow": {
     "slide_type": "slide"
    }
   },
   "source": [
    "### Variablen-Werte übertragen\n",
    "\n",
    "➡️ Beispiele 4 & 5"
   ]
  },
  {
   "cell_type": "code",
   "execution_count": 49,
   "metadata": {},
   "outputs": [
    {
     "name": "stdout",
     "output_type": "stream",
     "text": [
      "i\t wie_viel\n",
      "-----------------\n",
      "1 \t 1\n",
      "2 \t 11\n",
      "3 \t 21\n",
      "4 \t 31\n",
      "5 \t 41\n",
      "6 \t 51\n",
      "7 \t 61\n",
      "8 \t 71\n",
      "9 \t 81\n",
      "10 \t 91\n"
     ]
    }
   ],
   "source": [
    "# Wert «wie_viel» wird jedesmal um 1 erhöht\n",
    "\n",
    "erdbeere = \"🍓\"\n",
    "\n",
    "def erdbeeren(faktor):\n",
    "    \n",
    "    wie_viel = 1\n",
    "    \n",
    "    print(\"i\\t wie_viel\")\n",
    "    print(\"-----------------\")\n",
    "\n",
    "    for i in range(1,11):\n",
    "        print(i,\"\\t\",wie_viel)\n",
    "        wie_viel += faktor\n",
    "        \n",
    "erdbeeren(10)"
   ]
  },
  {
   "cell_type": "markdown",
   "metadata": {},
   "source": [
    "💡 Am besten sind die Namen von Variablen möglichst klar und einzigartig. Falls sie in utnerschiedlichen Befehlen vorkommen, können sie aber trotzdem den gleichen Namen haben"
   ]
  },
  {
   "cell_type": "code",
   "execution_count": 65,
   "metadata": {},
   "outputs": [
    {
     "name": "stdout",
     "output_type": "stream",
     "text": [
      "Erdbeer-Steigerung:  1\n",
      "=======================\n",
      "i\t wie_viel\n",
      "-----------------------\n",
      "1 \t 1 \t 🍓\n",
      "2 \t 2 \t 🍓🍓\n",
      "3 \t 3 \t 🍓🍓🍓\n",
      "4 \t 4 \t 🍓🍓🍓🍓\n",
      "5 \t 5 \t 🍓🍓🍓🍓🍓\n",
      "6 \t 6 \t 🍓🍓🍓🍓🍓🍓\n",
      "7 \t 7 \t 🍓🍓🍓🍓🍓🍓🍓\n",
      "8 \t 8 \t 🍓🍓🍓🍓🍓🍓🍓🍓\n",
      "9 \t 9 \t 🍓🍓🍓🍓🍓🍓🍓🍓🍓\n",
      "10 \t 10 \t 🍓🍓🍓🍓🍓🍓🍓🍓🍓🍓\n",
      "\n",
      "Avocado-Steigerung:  2\n",
      "======================\n",
      "i\t wie_viel\n",
      "----------------------\n",
      "1 \t 1 \t 🥑\n",
      "2 \t 3 \t 🥑🥑🥑\n",
      "3 \t 5 \t 🥑🥑🥑🥑🥑\n",
      "4 \t 7 \t 🥑🥑🥑🥑🥑🥑🥑\n",
      "5 \t 9 \t 🥑🥑🥑🥑🥑🥑🥑🥑🥑\n",
      "6 \t 11 \t 🥑🥑🥑🥑🥑🥑🥑🥑🥑🥑🥑\n",
      "7 \t 13 \t 🥑🥑🥑🥑🥑🥑🥑🥑🥑🥑🥑🥑🥑\n",
      "8 \t 15 \t 🥑🥑🥑🥑🥑🥑🥑🥑🥑🥑🥑🥑🥑🥑🥑\n",
      "9 \t 17 \t 🥑🥑🥑🥑🥑🥑🥑🥑🥑🥑🥑🥑🥑🥑🥑🥑🥑\n",
      "10 \t 19 \t 🥑🥑🥑🥑🥑🥑🥑🥑🥑🥑🥑🥑🥑🥑🥑🥑🥑🥑🥑\n"
     ]
    }
   ],
   "source": [
    "# «wie_viel» und «faktor» kommen mehrmals vor,\n",
    "# werden aber trotzdem als verschiedene Variablen\n",
    "# gesehen, weil sie nur innerhalb ihres Blocks «leben».\n",
    "\n",
    "erdbeere = \"🍓\"\n",
    "avocado = \"🥑\"\n",
    "\n",
    "def erdbeeren(steigerung):\n",
    "    \n",
    "    wie_viel = 1\n",
    "    \n",
    "    print(\"Erdbeer-Steigerung: \", steigerung)\n",
    "    print(\"=======================\")\n",
    "    print(\"i\\t wie_viel\")\n",
    "    print(\"-----------------------\")\n",
    "\n",
    "    for i in range(1,11): # tiger_jython: repeat(10)\n",
    "        print(i, \"\\t\", wie_viel, \"\\t\", erdbeere*wie_viel)\n",
    "        wie_viel += steigerung\n",
    "        \n",
    "def mangos(steigerung):\n",
    "    \n",
    "    wie_viel = 1\n",
    "    \n",
    "    print()\n",
    "    print(\"Avocado-Steigerung: \", steigerung)\n",
    "    print(\"======================\")\n",
    "    print(\"i\\t wie_viel\")\n",
    "    print(\"----------------------\")\n",
    "\n",
    "    for i in range(1,11): # tiger_jython: repeat(10)\n",
    "        print(i, \"\\t\", wie_viel, \"\\t\", avocado*wie_viel)\n",
    "        wie_viel += steigerung\n",
    "\n",
    "        \n",
    "erdbeeren(1)\n",
    "mangos(2)"
   ]
  },
  {
   "cell_type": "markdown",
   "metadata": {},
   "source": [
    "### Mit mehreren Variablen arbeiten\n",
    "\n",
    "➡️ Beispiele 6, 7, 8, 9, 10"
   ]
  },
  {
   "cell_type": "code",
   "execution_count": 102,
   "metadata": {},
   "outputs": [
    {
     "name": "stdout",
     "output_type": "stream",
     "text": [
      "🍓🍓🍓\n",
      "🥑🥑🥑🥑\n",
      "🍊🍊🍊🍊🍊\n",
      "🥝🥝🥝🥝🥝🥝\n"
     ]
    }
   ],
   "source": [
    "def frucht_salat(anzahl_erdbeeren, anzahl_avocados, anzahl_orangen, anzahl_kiwis):\n",
    "    print(\"🍓\"*anzahl_erdbeeren)\n",
    "    print(\"🥑\"*anzahl_avocados)\n",
    "    print(\"🍊\"*anzahl_orangen)\n",
    "    print(\"🥝\"*anzahl_kiwis)\n",
    "    \n",
    "frucht_salat(3, 4, 5, 6)"
   ]
  },
  {
   "cell_type": "code",
   "execution_count": 67,
   "metadata": {},
   "outputs": [
    {
     "name": "stdout",
     "output_type": "stream",
     "text": [
      "i\t wie_viel\t x\n",
      "--------------------------\n",
      "1 \t 0 \t\t 1\n",
      "2 \t 1 \t\t 2\n",
      "3 \t 3 \t\t 3\n",
      "4 \t 6 \t\t 4\n",
      "5 \t 10 \t\t 5\n",
      "6 \t 15 \t\t 6\n",
      "7 \t 21 \t\t 7\n",
      "8 \t 28 \t\t 8\n",
      "9 \t 36 \t\t 9\n",
      "10 \t 45 \t\t 10\n",
      "11 \t 55 \t\t 11\n",
      "12 \t 66 \t\t 12\n",
      "13 \t 78 \t\t 13\n",
      "14 \t 91 \t\t 14\n",
      "15 \t 105 \t\t 15\n",
      "16 \t 120 \t\t 16\n",
      "17 \t 136 \t\t 17\n",
      "18 \t 153 \t\t 18\n",
      "19 \t 171 \t\t 19\n",
      "20 \t 190 \t\t 20\n",
      "21 \t 210 \t\t 21\n",
      "22 \t 231 \t\t 22\n",
      "23 \t 253 \t\t 23\n",
      "24 \t 276 \t\t 24\n",
      "25 \t 300 \t\t 25\n",
      "26 \t 325 \t\t 26\n",
      "27 \t 351 \t\t 27\n",
      "28 \t 378 \t\t 28\n",
      "29 \t 406 \t\t 29\n",
      "30 \t 435 \t\t 30\n",
      "31 \t 465 \t\t 31\n",
      "32 \t 496 \t\t 32\n",
      "33 \t 528 \t\t 33\n",
      "34 \t 561 \t\t 34\n",
      "35 \t 595 \t\t 35\n",
      "36 \t 630 \t\t 36\n",
      "37 \t 666 \t\t 37\n",
      "38 \t 703 \t\t 38\n",
      "39 \t 741 \t\t 39\n",
      "40 \t 780 \t\t 40\n",
      "41 \t 820 \t\t 41\n",
      "42 \t 861 \t\t 42\n",
      "43 \t 903 \t\t 43\n",
      "44 \t 946 \t\t 44\n",
      "45 \t 990 \t\t 45\n",
      "46 \t 1035 \t\t 46\n",
      "47 \t 1081 \t\t 47\n",
      "48 \t 1128 \t\t 48\n",
      "49 \t 1176 \t\t 49\n",
      "50 \t 1225 \t\t 50\n",
      "51 \t 1275 \t\t 51\n",
      "52 \t 1326 \t\t 52\n",
      "53 \t 1378 \t\t 53\n",
      "54 \t 1431 \t\t 54\n",
      "55 \t 1485 \t\t 55\n",
      "56 \t 1540 \t\t 56\n",
      "57 \t 1596 \t\t 57\n",
      "58 \t 1653 \t\t 58\n",
      "59 \t 1711 \t\t 59\n",
      "60 \t 1770 \t\t 60\n",
      "61 \t 1830 \t\t 61\n",
      "62 \t 1891 \t\t 62\n",
      "63 \t 1953 \t\t 63\n",
      "64 \t 2016 \t\t 64\n",
      "65 \t 2080 \t\t 65\n",
      "66 \t 2145 \t\t 66\n",
      "67 \t 2211 \t\t 67\n",
      "68 \t 2278 \t\t 68\n",
      "69 \t 2346 \t\t 69\n",
      "70 \t 2415 \t\t 70\n",
      "71 \t 2485 \t\t 71\n",
      "72 \t 2556 \t\t 72\n",
      "73 \t 2628 \t\t 73\n",
      "74 \t 2701 \t\t 74\n",
      "75 \t 2775 \t\t 75\n",
      "76 \t 2850 \t\t 76\n",
      "77 \t 2926 \t\t 77\n",
      "78 \t 3003 \t\t 78\n",
      "79 \t 3081 \t\t 79\n",
      "80 \t 3160 \t\t 80\n",
      "81 \t 3240 \t\t 81\n",
      "82 \t 3321 \t\t 82\n",
      "83 \t 3403 \t\t 83\n",
      "84 \t 3486 \t\t 84\n",
      "85 \t 3570 \t\t 85\n",
      "86 \t 3655 \t\t 86\n",
      "87 \t 3741 \t\t 87\n",
      "88 \t 3828 \t\t 88\n",
      "89 \t 3916 \t\t 89\n",
      "90 \t 4005 \t\t 90\n",
      "91 \t 4095 \t\t 91\n",
      "92 \t 4186 \t\t 92\n",
      "93 \t 4278 \t\t 93\n",
      "94 \t 4371 \t\t 94\n",
      "95 \t 4465 \t\t 95\n",
      "96 \t 4560 \t\t 96\n",
      "97 \t 4656 \t\t 97\n",
      "98 \t 4753 \t\t 98\n",
      "99 \t 4851 \t\t 99\n",
      "100 \t 4950 \t\t 100\n"
     ]
    }
   ],
   "source": [
    "summe = 0\n",
    "x = 1\n",
    "bis = 100\n",
    "\n",
    "print(\"i\\t wie_viel\\t x\")\n",
    "print(\"--------------------------\")\n",
    "\n",
    "for i in range(1,bis+1):\n",
    "    print(i,\"\\t\",summe, \"\\t\\t\", x)\n",
    "    summe += x\n",
    "    x += 1"
   ]
  },
  {
   "cell_type": "code",
   "execution_count": null,
   "metadata": {},
   "outputs": [],
   "source": []
  }
 ],
 "metadata": {
  "celltoolbar": "Slideshow",
  "kernelspec": {
   "display_name": "Python 3",
   "language": "python",
   "name": "python3"
  },
  "language_info": {
   "codemirror_mode": {
    "name": "ipython",
    "version": 3
   },
   "file_extension": ".py",
   "mimetype": "text/x-python",
   "name": "python",
   "nbconvert_exporter": "python",
   "pygments_lexer": "ipython3",
   "version": "3.7.7"
  }
 },
 "nbformat": 4,
 "nbformat_minor": 4
}
