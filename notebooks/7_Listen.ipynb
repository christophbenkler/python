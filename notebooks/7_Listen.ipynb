{
 "cells": [
  {
   "cell_type": "markdown",
   "metadata": {
    "slideshow": {
     "slide_type": "slide"
    }
   },
   "source": [
    "# Python 7 | Listen\n",
    "🔗 [interaktiv](https://mybinder.org/v2/gh/gymnasium-immensee/binder/master?urlpath=git-pull%3Frepo%3Dhttps%253A%252F%252Fgithub.com%252Fgymnasium-immensee%252Fpython%26urlpath%3Dtree%252Fpython%252Fnotebooks%26branch%3Dmaster)"
   ]
  },
  {
   "cell_type": "markdown",
   "metadata": {
    "slideshow": {
     "slide_type": "slide"
    }
   },
   "source": [
    "### Zahlenlisten"
   ]
  },
  {
   "cell_type": "code",
   "execution_count": 1,
   "metadata": {},
   "outputs": [
    {
     "name": "stdout",
     "output_type": "stream",
     "text": [
      "[0, 1, 1, 2, 3, 5, 8]\n",
      "[0, 1, 1, 2, 3, 5, 8, 13]\n"
     ]
    }
   ],
   "source": [
    "# eine Liste mit den ersten 7 Fibonacci Zahlen\n",
    "fibonacci = [0, 1, 1, 2, 3, 5, 8]\n",
    "print(fibonacci)\n",
    "\n",
    "# die nächste Zahl wird angehängt\n",
    "fibonacci.append(13)\n",
    "print(fibonacci)"
   ]
  },
  {
   "cell_type": "code",
   "execution_count": 31,
   "metadata": {},
   "outputs": [
    {
     "name": "stdout",
     "output_type": "stream",
     "text": [
      "0\n",
      "1\n",
      "8\n",
      "13\n"
     ]
    }
   ],
   "source": [
    "# Einzelne Elemente aus einer Liste auslesen\n",
    "\n",
    "print(fibonacci[0])  # das erste\n",
    "print(fibonacci[1])  # das zweite\n",
    "print(fibonacci[6])  # das siebte\n",
    "print(fibonacci[-1]) # das letzte"
   ]
  },
  {
   "cell_type": "code",
   "execution_count": 16,
   "metadata": {},
   "outputs": [
    {
     "name": "stdin",
     "output_type": "stream",
     "text": [
      "Wie viel Noten möchtest du eingeben? 3\n",
      "Note: 2\n",
      "Note: 3\n",
      "Note: 3\n"
     ]
    },
    {
     "name": "stdout",
     "output_type": "stream",
     "text": [
      "['2', '3', '3']\n"
     ]
    }
   ],
   "source": [
    "# Schrittweises fragen und anhängen\n",
    "\n",
    "noten = []\n",
    "anzahl = int(input(\"Wie viel Noten möchtest du eingeben?\"))\n",
    "i = 0\n",
    "while (i < anzahl):\n",
    "    note = input(\"Note:\")\n",
    "    noten.append(note)\n",
    "    i += 1\n",
    "print(noten)"
   ]
  },
  {
   "cell_type": "code",
   "execution_count": 24,
   "metadata": {},
   "outputs": [
    {
     "name": "stdout",
     "output_type": "stream",
     "text": [
      "[1, 2, 3, 4, 5, 6, 7, 8, 9, 10]\n"
     ]
    }
   ],
   "source": [
    "# Automatisches berechnen und anhängen\n",
    "\n",
    "reihe = []\n",
    "i = 1\n",
    "while (i < 11):\n",
    "    reihe.append(i)\n",
    "    i += 1\n",
    "print(reihe)"
   ]
  },
  {
   "cell_type": "markdown",
   "metadata": {
    "slideshow": {
     "slide_type": "slide"
    }
   },
   "source": [
    "### die `for` Schleife"
   ]
  },
  {
   "cell_type": "code",
   "execution_count": 37,
   "metadata": {},
   "outputs": [
    {
     "name": "stdout",
     "output_type": "stream",
     "text": [
      "0\n",
      "1\n",
      "1\n",
      "3\n",
      "4\n",
      "5\n",
      "8\n",
      "13\n"
     ]
    }
   ],
   "source": [
    "# Bearbeiten von jedem Element in einer Liste:\n",
    "\n",
    "for i in fibonacci:\n",
    "    print(i)"
   ]
  },
  {
   "cell_type": "markdown",
   "metadata": {},
   "source": [
    "### Buchstaben\n",
    "\n",
    "* [ASCII](https://de.wikipedia.org/wiki/American_Standard_Code_for_Information_Interchange)\n",
    "* [Unicode](https://home.unicode.org/)"
   ]
  },
  {
   "cell_type": "code",
   "execution_count": null,
   "metadata": {},
   "outputs": [],
   "source": [
    "# chr(zahl) gibt den Buchstaben «character» aus, der mit der `zahl` codiert wird\n",
    "\n",
    "print(chr(72))\n",
    "print(chr(0x1F973))"
   ]
  },
  {
   "cell_type": "code",
   "execution_count": 4,
   "metadata": {},
   "outputs": [
    {
     "name": "stdout",
     "output_type": "stream",
     "text": [
      "😀\n",
      "😁\n",
      "😂\n",
      "😃\n",
      "😄\n",
      "😅\n",
      "😆\n",
      "😇\n",
      "😈\n",
      "😉\n",
      "😊\n",
      "😋\n",
      "😌\n",
      "😍\n",
      "😎\n"
     ]
    }
   ],
   "source": [
    "# die ersten 15 emoji\n",
    "\n",
    "e = 0x1F600\n",
    "while (e < 0x1F60F):\n",
    "    print(chr(e))\n",
    "    e += 1"
   ]
  },
  {
   "cell_type": "code",
   "execution_count": 20,
   "metadata": {},
   "outputs": [
    {
     "name": "stdout",
     "output_type": "stream",
     "text": [
      "H\n",
      "A\n",
      "L\n",
      "L\n",
      "O\n"
     ]
    }
   ],
   "source": [
    "# Text mit Liste & `for` Schleife\n",
    "\n",
    "text = [72, 65, 76, 76, 79]\n",
    "for i in text:\n",
    "    print(chr(i))"
   ]
  },
  {
   "cell_type": "markdown",
   "metadata": {},
   "source": [
    "### Mehr Möglichkeiten mit Listen"
   ]
  },
  {
   "cell_type": "code",
   "execution_count": 5,
   "metadata": {},
   "outputs": [
    {
     "name": "stdout",
     "output_type": "stream",
     "text": [
      "[3.5]\n",
      "[4, 4.5, 5, 5.5, 6]\n"
     ]
    }
   ],
   "source": [
    "# Listen aufteilen\n",
    "\n",
    "noten = [3.5, 4, 4.5, 5, 5.5, 6]\n",
    "ug = []\n",
    "g = []\n",
    "for note in noten:\n",
    "    if note < 4:\n",
    "        ug.append(note)\n",
    "    else:\n",
    "        g.append(note)\n",
    "print(ug)\n",
    "print(g)"
   ]
  },
  {
   "cell_type": "code",
   "execution_count": 11,
   "metadata": {},
   "outputs": [
    {
     "data": {
      "text/plain": [
       "6"
      ]
     },
     "execution_count": 11,
     "metadata": {},
     "output_type": "execute_result"
    }
   ],
   "source": [
    "# Länge einer Liste:\n",
    "\n",
    "len(noten)"
   ]
  },
  {
   "cell_type": "code",
   "execution_count": 12,
   "metadata": {},
   "outputs": [
    {
     "name": "stdout",
     "output_type": "stream",
     "text": [
      "4.75\n"
     ]
    }
   ],
   "source": [
    "# Mit Listenwerten rechnen\n",
    "\n",
    "summe = 0\n",
    "for note in noten:\n",
    "    summe += note\n",
    "    \n",
    "print(summe / len(noten))"
   ]
  },
  {
   "cell_type": "code",
   "execution_count": 16,
   "metadata": {},
   "outputs": [
    {
     "name": "stdout",
     "output_type": "stream",
     "text": [
      "[2, 3, 4, 5, 6, 7, 8]\n"
     ]
    }
   ],
   "source": [
    "# Listen & Befehle\n",
    "\n",
    "def intervall(liste, start, ende):\n",
    "    if start <= ende:\n",
    "        x = start\n",
    "        while x <= ende:\n",
    "            liste.append(x)\n",
    "            x += 1\n",
    "\n",
    "leere_liste = []\n",
    "intervall(leere_liste, 2, 8)\n",
    "print(leere_liste)"
   ]
  },
  {
   "cell_type": "code",
   "execution_count": 21,
   "metadata": {},
   "outputs": [
    {
     "name": "stdout",
     "output_type": "stream",
     "text": [
      "4\n"
     ]
    }
   ],
   "source": [
    "# Maximum dreier Zahlen\n",
    "\n",
    "def max(a, b, c):\n",
    "    max = a\n",
    "    if b > max:\n",
    "        max = b\n",
    "    if c > max:\n",
    "        max = c\n",
    "    print(max)\n",
    "\n",
    "max(5, 3, 6)"
   ]
  },
  {
   "cell_type": "code",
   "execution_count": 30,
   "metadata": {},
   "outputs": [
    {
     "name": "stdout",
     "output_type": "stream",
     "text": [
      "8\n"
     ]
    }
   ],
   "source": [
    "# Maximum beliebiger Zahlen\n",
    "\n",
    "def max(numbers):\n",
    "    max = numbers[0]\n",
    "    for number in numbers:\n",
    "        if number > max:\n",
    "            max = number\n",
    "    print(max)\n",
    "\n",
    "max([8, 6, 3, 6, 3, 5, 7])"
   ]
  },
  {
   "cell_type": "code",
   "execution_count": 70,
   "metadata": {},
   "outputs": [
    {
     "name": "stdout",
     "output_type": "stream",
     "text": [
      "[1, 3, 4, 5, 7, 9]\n"
     ]
    }
   ],
   "source": [
    "# Liste sortieren\n",
    "\n",
    "def sort(sorted, numbers):\n",
    "    while len(numbers) > 0:\n",
    "        min = numbers[0]\n",
    "        for number in numbers:\n",
    "            if number < min:\n",
    "                min = number\n",
    "        numbers.remove(min)\n",
    "        sorted.append(min)\n",
    "        \n",
    "sorted = []\n",
    "sort(sorted, [7, 5, 3, 9, 1, 4])\n",
    "print(sorted)"
   ]
  },
  {
   "cell_type": "markdown",
   "metadata": {},
   "source": [
    "## 🚀 Optionale Extras"
   ]
  },
  {
   "cell_type": "code",
   "execution_count": 39,
   "metadata": {},
   "outputs": [
    {
     "name": "stdout",
     "output_type": "stream",
     "text": [
      "1\n",
      "2\n",
      "3\n",
      "4\n"
     ]
    }
   ],
   "source": [
    "# die Liste in for Schleifen kann auch direkt erzeugt werden\n",
    "\n",
    "for i in [1, 2, 3, 4]:\n",
    "    print(i)"
   ]
  },
  {
   "cell_type": "code",
   "execution_count": 36,
   "metadata": {},
   "outputs": [
    {
     "name": "stdout",
     "output_type": "stream",
     "text": [
      "1\n",
      "3\n",
      "5\n",
      "7\n",
      "9\n",
      "11\n"
     ]
    }
   ],
   "source": [
    "# oder man kann den Befehl `range(start, stop, schritt)` verwenden\n",
    "# for Schleife von 1 bis (und ohne) 12, wobei i bei jedem Schritt um 2 erhöht wird\n",
    "\n",
    "for i in range(1,12,2):\n",
    "    print(i)"
   ]
  },
  {
   "cell_type": "code",
   "execution_count": 35,
   "metadata": {},
   "outputs": [
    {
     "name": "stdout",
     "output_type": "stream",
     "text": [
      "0\n",
      "1\n",
      "2\n",
      "3\n",
      "4\n",
      "5\n",
      "6\n",
      "7\n",
      "8\n",
      "9\n",
      "10\n",
      "11\n"
     ]
    }
   ],
   "source": [
    "# standardmässig beginnt der der Wert in `range` bei 0, und wird um 1\n",
    "\n",
    "for i in range(12):\n",
    "    print(i)"
   ]
  },
  {
   "cell_type": "code",
   "execution_count": 17,
   "metadata": {},
   "outputs": [
    {
     "name": "stdout",
     "output_type": "stream",
     "text": [
      "['APPLE', 'ANANAS']\n"
     ]
    }
   ],
   "source": [
    "# Mit «List comprehensions» kann man direkt und elegant Listen erzeugen:\n",
    "\n",
    "salad = [\"strawberry\", \"apple\", \"kiwi\", \"orange\", \"ananas\"]\n",
    "\n",
    "a_salad = [\n",
    "    e.upper()            # das gewählte Element kann man auch verändern\n",
    "    for e                # das auszuwählende Element...\n",
    "    in salad             # ... aus der Menge (auch eine Liste)\n",
    "    if e.startswith(\"a\") # Filter-/Auswahlkriterium\n",
    "]\n",
    "\n",
    "print(a_salad)"
   ]
  },
  {
   "cell_type": "code",
   "execution_count": 18,
   "metadata": {},
   "outputs": [
    {
     "name": "stdout",
     "output_type": "stream",
     "text": [
      "['kiwikiwi']\n"
     ]
    }
   ],
   "source": [
    "# Man kann auch die ganze list comprehension in einer Zeile schreiben:\n",
    "\n",
    "i_salad = [e*2 for e in salad if \"i\" in e]\n",
    "\n",
    "print(i_salad)"
   ]
  },
  {
   "cell_type": "code",
   "execution_count": 19,
   "metadata": {},
   "outputs": [
    {
     "name": "stdout",
     "output_type": "stream",
     "text": [
      "['kiwikiwi']\n"
     ]
    }
   ],
   "source": [
    "# Zum Vergleich, wie man die gleiche Liste mit einer Schleife erzeugen würde:\n",
    "\n",
    "loop_salad = []\n",
    "for e in salad:\n",
    "    if \"i\" in e:\n",
    "        loop_salad.append(e*2)\n",
    "        \n",
    "print(loop_salad)"
   ]
  },
  {
   "cell_type": "code",
   "execution_count": 81,
   "metadata": {},
   "outputs": [
    {
     "name": "stdout",
     "output_type": "stream",
     "text": [
      "[1, 2, 3, 4, 5, 6, 7, 7, 7]\n",
      "[1, 3, 4, 5, 6, 7, 7, 7]\n",
      "[1, 3, 4, 5, 6, 7, 7] | popped: 7\n",
      "True\n",
      "5\n",
      "2\n",
      "None\n"
     ]
    }
   ],
   "source": [
    "# weitere Listenoperationen\n",
    "\n",
    "l = [1,2,3]\n",
    "\n",
    "l = l + [4,5,6]   # Listen zusammenhängen\n",
    "l.extend([7,7,7]) # Listen zusammenhängen\n",
    "print(l)\n",
    "\n",
    "l.remove(2) # das zweite Element entfernen\n",
    "print(l)\n",
    "\n",
    "popped = l.pop(-1) # das letzte Element wird entfernt und rurückgegeben \n",
    "print(l, end=\" | popped: \")\n",
    "print(popped)\n",
    "\n",
    "print(7 in l)     # sagt, ob ein Element vorkommt\n",
    "print(l.index(7)) # sagt, wo ein Element vorkommt\n",
    "print(l.count(7)) # zählt, wie oft ein Element vorkommt"
   ]
  },
  {
   "cell_type": "code",
   "execution_count": 69,
   "metadata": {},
   "outputs": [
    {
     "name": "stdout",
     "output_type": "stream",
     "text": [
      "[['a', 'b'], [1, 2]]\n"
     ]
    }
   ],
   "source": [
    "# Listen von Listen (Matrix)\n",
    "\n",
    "matrix = [['a', 'b'],[1,2]]\n",
    "print(matrix)"
   ]
  },
  {
   "cell_type": "code",
   "execution_count": 85,
   "metadata": {},
   "outputs": [
    {
     "name": "stdout",
     "output_type": "stream",
     "text": [
      "[2, 3, 4, 5, 6]\n",
      "[6, 5, 4, 3, 2]\n"
     ]
    }
   ],
   "source": [
    "# Listen sortieren\n",
    "\n",
    "numbers = [3,5,6,2,4]\n",
    "\n",
    "numbers.sort()\n",
    "print(numbers)\n",
    "\n",
    "numbers.sort(reverse=True)\n",
    "print(numbers)"
   ]
  }
 ],
 "metadata": {
  "celltoolbar": "Slideshow",
  "kernelspec": {
   "display_name": "Python 3",
   "language": "python",
   "name": "python3"
  },
  "language_info": {
   "codemirror_mode": {
    "name": "ipython",
    "version": 3
   },
   "file_extension": ".py",
   "mimetype": "text/x-python",
   "name": "python",
   "nbconvert_exporter": "python",
   "pygments_lexer": "ipython3",
   "version": "3.7.7"
  }
 },
 "nbformat": 4,
 "nbformat_minor": 4
}
