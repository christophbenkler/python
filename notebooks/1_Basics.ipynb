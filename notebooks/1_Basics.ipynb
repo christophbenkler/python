{
 "cells": [
  {
   "cell_type": "markdown",
   "metadata": {
    "slideshow": {
     "slide_type": "slide"
    }
   },
   "source": [
    "# Python 1 | Basics\n",
    "🔗 [interaktiv](https://mybinder.org/v2/gh/gymnasium-immensee/binder/master?urlpath=git-pull%3Frepo%3Dhttps%253A%252F%252Fgithub.com%252Fgymnasium-immensee%252Fpython%26urlpath%3Dtree%252Fpython%252Fnotebooks%26branch%3Dmaster)\n",
    "\n",
    "### Das Notizbuch interaktiv verwenden:\n",
    "1. ⬆️ obigen Link klicken\n",
    "1. Die entsprechende Datei (xy.ipynb) öffnen\n",
    "1. Hier kann man den Code beliebig anpassen und laufen lassen, wobei Änderungen nicht gespeichert werden\n",
    "\n",
    "### 🎯 Ziel\n",
    "\n",
    "* Du kannst erste Programme schreiben, und so die 🐢 bewegen, Text ausgeben und rechnen.\n",
    "\n",
    "### Mehr\n",
    "\n",
    "* 🐍 [python-online.ch | Turtle bewegen](http://www.python-online.ch/turtle.php?inhalt_links=turtle/navigation.inc.php&inhalt_mitte=turtle/bewegen.inc.php)\n",
    "* 🐍 [python-online.ch | Farben verwenden](http://www.python-online.ch/turtle.php?inhalt_links=turtle/navigation.inc.php&inhalt_mitte=turtle/farben.inc.php)\n",
    "* 🆘 [Tutorial-Video zu Zahlen](https://www.youtube.com/watch?v=mNcexeCI-G4&list=PLNmsVeXQZj7q0ao69AIogD94oBgp3E9Zs&index=2)\n",
    "* 📘 basierend auf [Hromkovič & Kohn, 2018, Einfach Informatik: Programmieren, Klett und Balmer](https://www.klett.ch/lehrwerke/einfach-informatik-7-9)"
   ]
  },
  {
   "cell_type": "markdown",
   "metadata": {
    "slideshow": {
     "slide_type": "slide"
    }
   },
   "source": [
    "### TigerJython einrichten\n",
    "\n",
    "* entweder kann man TigerJython direkt online verwenden: [webtigerjython.ethz.ch](https://webtigerjython.ethz.ch/)\n",
    "* oder man installiert TigerJython lokal (Windows/Mac/Linux): [tjgroup.ch](http://www.tjgroup.ch/download-de1.html)"
   ]
  },
  {
   "cell_type": "markdown",
   "metadata": {},
   "source": [
    "### Kommentare"
   ]
  },
  {
   "cell_type": "code",
   "execution_count": 4,
   "metadata": {},
   "outputs": [
    {
     "name": "stdout",
     "output_type": "stream",
     "text": [
      "Hello\n"
     ]
    }
   ],
   "source": [
    "# Das ist ein Kommentar\n",
    "\n",
    "\"\"\"\n",
    "Das ist ein Zeilen-\n",
    "übergreifender Kommentar\n",
    "\"\"\"\n",
    "\n",
    "# Die folgende Zeile gibt «Hello» aus:\n",
    "print(\"Hello\")"
   ]
  },
  {
   "cell_type": "markdown",
   "metadata": {
    "slideshow": {
     "slide_type": "slide"
    }
   },
   "source": [
    "### Turtle Befehle\n",
    "\n",
    "``` python\n",
    "# die beiden Zeilen werden immer benötigt:\n",
    "\n",
    "from gturtle import * # lädt das Turtle Modul\n",
    "makeTurtle()          # öffnet Fenster zum Zeichnen\n",
    "\n",
    "# hier folgen die weiteren Befehle:\n",
    "\n",
    "forward(150) # 150 Schritte vorwärts\n",
    "back(17)     # 17 Schritte rückwärts\n",
    "left(120)    # 120° nach links\n",
    "right(90)    # 90° nach rechts\n",
    "```\n",
    "\n",
    "➡️ Beispiele 1, 2, 3 & 4"
   ]
  },
  {
   "cell_type": "markdown",
   "metadata": {
    "slideshow": {
     "slide_type": "slide"
    }
   },
   "source": [
    "### Farbe & Stiftbreite\n",
    "\n",
    "[Alle Farben](https://trinket.io/docs/colors)\n",
    "\n",
    "``` python\n",
    "from gturtle import *\n",
    "makeTurtle()\n",
    "setPenWidth(5) # 5 Pixel breit\n",
    "\n",
    "setPenColor(\"yellow\")\n",
    "forward(100)\n",
    "left(120)\n",
    "\n",
    "setPenColor(\"red\")\n",
    "forward(100)\n",
    "left(120)\n",
    "\n",
    "setPenColor(\"blue\")\n",
    "forward(100)\n",
    "left(120)\n",
    "```\n",
    "➡️ Beispiel 5"
   ]
  },
  {
   "cell_type": "markdown",
   "metadata": {
    "slideshow": {
     "slide_type": "slide"
    }
   },
   "source": [
    "### Text ausgeben\n",
    "Diese Code-Schnipsel kann man direkt im Notizbuch laufen lassen. ⚠️ `print(\"Text\")` entspricht Python 3, `print \"Text\"` Python 2.\n",
    "\n",
    "➡️ Beispiele 6, 7 & 8"
   ]
  },
  {
   "cell_type": "code",
   "execution_count": 1,
   "metadata": {},
   "outputs": [
    {
     "name": "stdout",
     "output_type": "stream",
     "text": [
      "Hello\n",
      "World\n"
     ]
    }
   ],
   "source": [
    "# Ein `print` ~ eine Zeile\n",
    "\n",
    "print(\"Hello\")\n",
    "print(\"World\")"
   ]
  },
  {
   "cell_type": "code",
   "execution_count": 34,
   "metadata": {},
   "outputs": [
    {
     "name": "stdout",
     "output_type": "stream",
     "text": [
      "Hello World\n"
     ]
    }
   ],
   "source": [
    "# So kommen zwei `prints` auf eine Zeile (entspricht Komma Variante bei Python 2)\n",
    "\n",
    "print(\"Hello\", end=\" \")\n",
    "print(\"World\")"
   ]
  },
  {
   "cell_type": "code",
   "execution_count": 6,
   "metadata": {
    "tags": []
   },
   "outputs": [
    {
     "name": "stdout",
     "output_type": "stream",
     "text": [
      "Hello\n",
      "World\n"
     ]
    }
   ],
   "source": [
    "# Mit `\\n` bekommt man innerhalb eines `prints` einen Zeilenumbruch\n",
    "\n",
    "print(\"Hello\\nWorld\")"
   ]
  },
  {
   "cell_type": "code",
   "execution_count": 7,
   "metadata": {
    "slideshow": {
     "slide_type": "slide"
    }
   },
   "outputs": [
    {
     "name": "stdout",
     "output_type": "stream",
     "text": [
      "Hello World Hello World \n",
      "=======================\n"
     ]
    }
   ],
   "source": [
    "# Man kann Texblöcke mehrfach ausgeben\n",
    "\n",
    "print(\"Hello World \" * 2)\n",
    "print(\"=\" * 23)"
   ]
  },
  {
   "cell_type": "code",
   "execution_count": 23,
   "metadata": {
    "slideshow": {
     "slide_type": "-"
    }
   },
   "outputs": [
    {
     "name": "stdout",
     "output_type": "stream",
     "text": [
      "X   X XXXXX X     X     XXXXX\n",
      "X   X X     X     X     X   X\n",
      "XXXXX XXXXX X     X     X   X\n",
      "X   X X     X     X     X   X\n",
      "X   X XXXXX XXXXX XXXXX XXXXX\n"
     ]
    }
   ],
   "source": [
    "print(\"X   X \" + \"X\" * 5 + \" X     X     \" + \"X\"*5)\n",
    "print(\"X   X X     X     X     X   X\")\n",
    "print(\"X\" * 5 + \" \" + \"X\" * 5 + \" \" +  \"X     X     X   X\")\n",
    "print(\"X   X X     X     X     X   X\")\n",
    "print(\"X   X \" + \"X\" * 5 + \" \" + \"X\" * 5 + \" \" + \"X\" * 5 + \" \" + \"X\"*5)"
   ]
  },
  {
   "cell_type": "markdown",
   "metadata": {
    "slideshow": {
     "slide_type": "slide"
    }
   },
   "source": [
    "### Rechnen\n",
    "\n",
    "➡️ Beispiele 9 & 10"
   ]
  },
  {
   "cell_type": "code",
   "execution_count": 18,
   "metadata": {
    "tags": []
   },
   "outputs": [
    {
     "name": "stdout",
     "output_type": "stream",
     "text": [
      "(163 * 3) - (77 * 4) = 181\n",
      "4 geteilt durch (1 + 1) =  2.0\n"
     ]
    }
   ],
   "source": [
    "print(\"(163 * 3) - (77 * 4) =\", end=\" \")        # Vorausgehende Textausgabe\n",
    "print( (163 * 3) - (77 * 4))                    # Berechnung & Ausgabe\n",
    "\n",
    "print(\"4 geteilt durch (1 + 1) = \", end=\" \")    # Bruchrechnen und Zusammenzählen\n",
    "print(4 / (1 + 1))"
   ]
  },
  {
   "cell_type": "markdown",
   "metadata": {},
   "source": [
    "## 🚀 Optionale Extras"
   ]
  },
  {
   "cell_type": "markdown",
   "metadata": {},
   "source": [
    "### Jupyter Notebooks\n",
    "... kann man auch lokal installieren, in dem man [Anaconda](https://www.anaconda.com) installiert.\n"
   ]
  },
  {
   "cell_type": "markdown",
   "metadata": {},
   "source": [
    "### Text ausgeben\n"
   ]
  },
  {
   "cell_type": "code",
   "execution_count": 30,
   "metadata": {},
   "outputs": [
    {
     "name": "stdout",
     "output_type": "stream",
     "text": [
      "Hello\tWorld\n"
     ]
    }
   ],
   "source": [
    "# Mit `\\t` bekommt man innerhalb eines `prints` einen Tab\n",
    "print(\"Hello\\tWorld\")"
   ]
  },
  {
   "cell_type": "code",
   "execution_count": 38,
   "metadata": {},
   "outputs": [
    {
     "name": "stdout",
     "output_type": "stream",
     "text": [
      "Linux, u-\n",
      "nix, macOS\n",
      "Win-\n",
      "dows\n"
     ]
    }
   ],
   "source": [
    "# Mit `\\n` (Linux, Unix, macOS) rsp. `\\r\\n` (Windows) bekommt man innerhalb eines `prints` einen Tab\n",
    "print(\"Linux, u-\\nnix, macOS\")\n",
    "print(\"Win-\\r\\ndows\")"
   ]
  },
  {
   "cell_type": "code",
   "execution_count": 32,
   "metadata": {},
   "outputs": [
    {
     "name": "stdout",
     "output_type": "stream",
     "text": [
      "Hello \\ World\n"
     ]
    }
   ],
   "source": [
    "# Optional: Mit `\\\\` bekommt man einen Backslash\n",
    "print(\"Hello \\\\ World\")"
   ]
  },
  {
   "cell_type": "markdown",
   "metadata": {},
   "source": [
    "Man kann auch den [ASCII](https://de.wikipedia.org/wiki/American_Standard_Code_for_Information_Interchange)/[Unicode](https://home.unicode.org) Wert in ein Zeichen (`chr` für Character) umwandeln:"
   ]
  },
  {
   "cell_type": "code",
   "execution_count": 11,
   "metadata": {},
   "outputs": [
    {
     "name": "stdout",
     "output_type": "stream",
     "text": [
      "🚀\n"
     ]
    }
   ],
   "source": [
    "print(chr(0x1F680))"
   ]
  },
  {
   "cell_type": "markdown",
   "metadata": {},
   "source": [
    "### Rechnen\n",
    "* Mit `**` kann man Potenzen berechnen $x^y$\n",
    "* Um $\\sqrt{Wurzeln}$ / `sqrt()` für «square root») zu ziehen, benötigt man das Modul `math`\n",
    "* Mit `//` kann man «Teilen mit abrunden»\n",
    "* `%` gibt den Rest aus, wenn man wie in der Primarschule teilt, z.B. $\\dfrac{50}{7}=7$; Rest 1"
   ]
  },
  {
   "cell_type": "code",
   "execution_count": 22,
   "metadata": {},
   "outputs": [
    {
     "name": "stdout",
     "output_type": "stream",
     "text": [
      "4 hoch 2 =  16\n",
      "Die Wurzel von 16 ist  4.0\n",
      "50 geteilt durch 7 =  7.142857142857143\n",
      "50 geteilt durch 7 (abgerundet) =  7\n",
      "Rest von 50 geteilt durch 7 =  1\n"
     ]
    }
   ],
   "source": [
    "from math import *   # importiert das Modul math; benötigt für sqrt()\n",
    "\n",
    "print(\"4 hoch 2 = \", end=\" \")\n",
    "print(4 ** 2)\n",
    "\n",
    "print(\"Die Wurzel von 16 ist \", end=\" \")\n",
    "print(sqrt(16)) # Alternative ohne `math`: 16**0.5\n",
    "\n",
    "print(\"50 geteilt durch 7 = \", end=\" \")\n",
    "print(50 / 7)\n",
    "\n",
    "print(\"50 geteilt durch 7 (abgerundet) = \", end=\" \")\n",
    "print(50 // 7)\n",
    "\n",
    "print(\"Rest von 50 geteilt durch 7 = \", end=\" \")\n",
    "print(50 % 7)"
   ]
  }
 ],
 "metadata": {
  "celltoolbar": "Slideshow",
  "kernelspec": {
   "display_name": "Python 3",
   "language": "python",
   "name": "python3"
  },
  "language_info": {
   "codemirror_mode": {
    "name": "ipython",
    "version": 3
   },
   "file_extension": ".py",
   "mimetype": "text/x-python",
   "name": "python",
   "nbconvert_exporter": "python",
   "pygments_lexer": "ipython3",
   "version": "3.7.7"
  }
 },
 "nbformat": 4,
 "nbformat_minor": 4
}