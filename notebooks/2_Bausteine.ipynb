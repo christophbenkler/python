{
 "cells": [
  {
   "cell_type": "markdown",
   "metadata": {
    "slideshow": {
     "slide_type": "slide"
    }
   },
   "source": [
    "# Python 2 | Bausteine\n",
    "🔗 [interaktiv](https://mybinder.org/v2/gh/gymnasium-immensee/binder/master?urlpath=git-pull%3Frepo%3Dhttps%253A%252F%252Fgithub.com%252Fgymnasium-immensee%252Fpython%26urlpath%3Dtree%252Fpython%252Fnotebooks%26branch%3Dmaster)\n",
    "\n",
    "### Mehr\n",
    "\n",
    "* 🐍 [python-online.ch | Funktionen](http://www.pythononline.ch/turtle.php?inhalt_links=turtle/navigation.inc.php&inhalt_mitte=turtle/funktionen.inc.php)\n",
    "* 🐍 [python-online.ch | Computeranimationen](http://www.pythononline.ch/turtle.php?inhalt_links=turtle/navigation.inc.php&inhalt_mitte=turtle/computeranimation.inc.php)\n",
    "* 🆘 [Video-Tutorial zu Funktionen](https://www.youtube.com/watch?v=mgA-Ytr32Ys&list=PLNmsVeXQZj7q0ao69AIogD94oBgp3E9Zs&index=12)"
   ]
  },
  {
   "cell_type": "markdown",
   "metadata": {
    "slideshow": {
     "slide_type": "-"
    }
   },
   "source": [
    "### Neue Befehle definieren und verwenden\n",
    "\n",
    "➡️ Beispiele 1, 2 & 3"
   ]
  },
  {
   "cell_type": "code",
   "execution_count": 30,
   "metadata": {
    "slideshow": {
     "slide_type": "-"
    }
   },
   "outputs": [],
   "source": [
    "# erst wird der neue Befehl «print_hello()» definiert\n",
    "# anschliessend wird der Befehl (im «Körper») beschrieben\n",
    "\n",
    "def print_hello(): \n",
    "    print(\"X   X \" + \"X\" * 5 + \" X     X     \" + \"X\"*5)\n",
    "    print(\"X   X X     X     X     X   X\")\n",
    "    print(\"X\" * 5 + \" \" + \"X\" * 5 + \" \" +  \"X     X     X   X\")\n",
    "    print(\"X   X X     X     X     X   X\")\n",
    "    print(\"X   X \" + \"X\" * 5 + \" \" + \"X\" * 5 + \" \" + \"X\" * 5 + \" \" + \"X\"*5)\n",
    "    print(\"\")"
   ]
  },
  {
   "cell_type": "code",
   "execution_count": 31,
   "metadata": {
    "slideshow": {
     "slide_type": "slide"
    }
   },
   "outputs": [
    {
     "name": "stdout",
     "output_type": "stream",
     "text": [
      "X   X XXXXX X     X     XXXXX\n",
      "X   X X     X     X     X   X\n",
      "XXXXX XXXXX X     X     X   X\n",
      "X   X X     X     X     X   X\n",
      "X   X XXXXX XXXXX XXXXX XXXXX\n",
      "\n"
     ]
    }
   ],
   "source": [
    "# nun kann man den Befehl später (auch mehrmals) verwenden:\n",
    "\n",
    "print_hello()"
   ]
  },
  {
   "cell_type": "markdown",
   "metadata": {
    "slideshow": {
     "slide_type": "slide"
    }
   },
   "source": [
    "### Befehle in Befehlen verwenden\n",
    "➡️ Beispiele 4, 5 & 6"
   ]
  },
  {
   "cell_type": "code",
   "execution_count": 22,
   "metadata": {
    "slideshow": {
     "slide_type": "slide"
    }
   },
   "outputs": [],
   "source": [
    "# kann man beliebig oft verschachteln\n",
    "\n",
    "i = 20\n",
    "\n",
    "def apple():\n",
    "    print(\"🍎\"*i)\n",
    "    \n",
    "def cherry():\n",
    "    print(\"🍒\"*i)\n",
    "\n",
    "def banana():\n",
    "    print(\"🍌\"*i)\n",
    "    \n",
    "def kiwi():\n",
    "    print(\"🥝\"*i)\n",
    "    \n",
    "def local():\n",
    "    apple()\n",
    "    cherry()\n",
    "\n",
    "def exotic():\n",
    "    banana()\n",
    "    kiwi()\n",
    "    \n",
    "def fruit_salad():\n",
    "    exotic()\n",
    "    local()    "
   ]
  },
  {
   "cell_type": "code",
   "execution_count": 23,
   "metadata": {
    "slideshow": {
     "slide_type": "slide"
    }
   },
   "outputs": [
    {
     "name": "stdout",
     "output_type": "stream",
     "text": [
      "🍌🍌🍌🍌🍌🍌🍌🍌🍌🍌🍌🍌🍌🍌🍌🍌🍌🍌🍌🍌\n",
      "🥝🥝🥝🥝🥝🥝🥝🥝🥝🥝🥝🥝🥝🥝🥝🥝🥝🥝🥝🥝\n",
      "🍎🍎🍎🍎🍎🍎🍎🍎🍎🍎🍎🍎🍎🍎🍎🍎🍎🍎🍎🍎\n",
      "🍒🍒🍒🍒🍒🍒🍒🍒🍒🍒🍒🍒🍒🍒🍒🍒🍒🍒🍒🍒\n"
     ]
    }
   ],
   "source": [
    "fruit_salad()"
   ]
  },
  {
   "cell_type": "markdown",
   "metadata": {
    "slideshow": {
     "slide_type": "slide"
    }
   },
   "source": [
    "### Animationen programmieren\n",
    "➡️ Beispiele 7 & 8\n",
    "\n",
    "* Löschen: mit weisser Farbe nachzeichnen\n",
    "* `hideTurtle()` (direkt nach `makeTurtle()`\n",
    "* `delay(time_ms)` Pause zwischen zwei Bildern in Millisekunden: 1/25 Sekunde: `delay(40)`"
   ]
  },
  {
   "cell_type": "markdown",
   "metadata": {
    "slideshow": {
     "slide_type": "slide"
    }
   },
   "source": [
    "## 🚀 Optionale Extras\n",
    "\n",
    "Auch eine Text-Ausgabe kann man animieren:"
   ]
  },
  {
   "cell_type": "code",
   "execution_count": 32,
   "metadata": {},
   "outputs": [
    {
     "name": "stdout",
     "output_type": "stream",
     "text": [
      "🐌🐌🐌 This is written slowly. 🐌🐌🐌"
     ]
    }
   ],
   "source": [
    "# Animierte Ausgabe auf der Konsole:\n",
    "\n",
    "import time\n",
    "import sys\n",
    "\n",
    "animation = \"🐌🐌🐌 This is written slowly. 🐌🐌🐌\"\n",
    "\n",
    "for letter in animation:\n",
    "    sys.stdout.write(letter)\n",
    "    sys.stdout.flush()\n",
    "    time.sleep(0.2)"
   ]
  }
 ],
 "metadata": {
  "celltoolbar": "Slideshow",
  "kernelspec": {
   "display_name": "Python 3",
   "language": "python",
   "name": "python3"
  },
  "language_info": {
   "codemirror_mode": {
    "name": "ipython",
    "version": 3
   },
   "file_extension": ".py",
   "mimetype": "text/x-python",
   "name": "python",
   "nbconvert_exporter": "python",
   "pygments_lexer": "ipython3",
   "version": "3.7.7"
  }
 },
 "nbformat": 4,
 "nbformat_minor": 4
}
