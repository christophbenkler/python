{
 "cells": [
  {
   "cell_type": "markdown",
   "metadata": {
    "slideshow": {
     "slide_type": "slide"
    }
   },
   "source": [
    "# Python 4 | Parameter\n",
    "🔗 [interaktiv](https://mybinder.org/v2/gh/gymnasium-immensee/binder/master?urlpath=git-pull%3Frepo%3Dhttps%253A%252F%252Fgithub.com%252Fgymnasium-immensee%252Fpython%26urlpath%3Dtree%252Fpython%252Fnotebooks%26branch%3Dmaster)\n",
    "\n",
    "### 🎯 Ziel\n",
    "\n",
    "* Du kannst durch die Verwendung von Parameter flexible Programme schreiben.\n",
    "\n",
    "### Mehr\n",
    "\n",
    "* 🐍 [python-online.ch | Parameter](http://www.python-online.ch/turtle.php?inhalt_links=turtle/navigation.inc.php&inhalt_mitte=turtle/parameter.inc.php)\n",
    "* 📘 basierend auf [Hromkovič & Kohn, 2018, Einfach Informatik: Programmieren, Klett und Balmer](https://www.klett.ch/lehrwerke/einfach-informatik-7-9)"
   ]
  },
  {
   "cell_type": "markdown",
   "metadata": {
    "slideshow": {
     "slide_type": "slide"
    }
   },
   "source": [
    "### Befehle mit einem Parameter\n",
    "➡️ Beispiele 1, 2, 3, 4, 5"
   ]
  },
  {
   "cell_type": "code",
   "execution_count": 24,
   "metadata": {},
   "outputs": [],
   "source": [
    "def erdbeer_salat(number):\n",
    "    print(\"🍓\"*number)"
   ]
  },
  {
   "cell_type": "code",
   "execution_count": 20,
   "metadata": {},
   "outputs": [
    {
     "name": "stdout",
     "output_type": "stream",
     "text": [
      "🍓🍓\n"
     ]
    }
   ],
   "source": [
    "erdbeer_salat(2)"
   ]
  },
  {
   "cell_type": "code",
   "execution_count": 29,
   "metadata": {},
   "outputs": [],
   "source": [
    "def lieblings_salat(choice):\n",
    "    print(choice)"
   ]
  },
  {
   "cell_type": "code",
   "execution_count": 30,
   "metadata": {},
   "outputs": [
    {
     "name": "stdout",
     "output_type": "stream",
     "text": [
      "🍦\n"
     ]
    }
   ],
   "source": [
    "lieblings_salat(\"🍦\")"
   ]
  },
  {
   "cell_type": "markdown",
   "metadata": {
    "slideshow": {
     "slide_type": "slide"
    }
   },
   "source": [
    "### Befehle mit mehreren Parameter\n",
    "➡️ Beispiele 6, 7"
   ]
  },
  {
   "cell_type": "code",
   "execution_count": 52,
   "metadata": {},
   "outputs": [],
   "source": [
    "def salat_was_wieviel(choice, number):\n",
    "    print(choice*number)"
   ]
  },
  {
   "cell_type": "code",
   "execution_count": 53,
   "metadata": {},
   "outputs": [
    {
     "name": "stdout",
     "output_type": "stream",
     "text": [
      "🥑🥑🥑\n"
     ]
    }
   ],
   "source": [
    "salat_was_wieviel(\"🥑\", 3)"
   ]
  },
  {
   "cell_type": "markdown",
   "metadata": {},
   "source": [
    "### Wie Parameter funktionieren\n",
    "➡️ Beispiel 8"
   ]
  },
  {
   "cell_type": "code",
   "execution_count": 57,
   "metadata": {},
   "outputs": [],
   "source": [
    "def salat_tabelle(choice, number):\n",
    "    print(\"Parameter-Tabelle:\")\n",
    "    print(\"=\"*18)\n",
    "    print(\"Name\\t| Wert\")\n",
    "    print(\"-\"*18)\n",
    "    print(\"choice:\\t|\", choice)\n",
    "    print(\"number:\\t|\", number)"
   ]
  },
  {
   "cell_type": "code",
   "execution_count": 58,
   "metadata": {},
   "outputs": [
    {
     "name": "stdout",
     "output_type": "stream",
     "text": [
      "Parameter-Tabelle:\n",
      "==================\n",
      "Name\t| Wert\n",
      "------------------\n",
      "choice:\t| 🥑\n",
      "number:\t| 3\n"
     ]
    }
   ],
   "source": [
    "salat_tabelle(\"🥑\", 3)"
   ]
  },
  {
   "cell_type": "markdown",
   "metadata": {},
   "source": [
    "### Parameterwerte an andere Befehle weitergeben\n",
    "* in dem man die Funktion aufruft\n",
    "* und die Parameter in der richtigen Reihenfolge einsetzt\n",
    "\n",
    "```python\n",
    "def vieleck(anzahl_ecken, seite):\n",
    "    repeat anzahl_ecken:\n",
    "        forward(seite) # Parameter: 20\n",
    "        right(360 / anzahl_ecken) # Parameter: 10\n",
    "        \n",
    "def kreis(umfang):\n",
    "    vieleck(36, umfang / 36) # Parameter: 36, 20\n",
    "    \n",
    "kreis(720) # Parameter: 720\n",
    "```\n",
    "\n",
    "➡️ Beispiele 9, 10, 11A, 11B"
   ]
  }
 ],
 "metadata": {
  "celltoolbar": "Slideshow",
  "kernelspec": {
   "display_name": "Python 3",
   "language": "python",
   "name": "python3"
  },
  "language_info": {
   "codemirror_mode": {
    "name": "ipython",
    "version": 3
   },
   "file_extension": ".py",
   "mimetype": "text/x-python",
   "name": "python",
   "nbconvert_exporter": "python",
   "pygments_lexer": "ipython3",
   "version": "3.7.7"
  }
 },
 "nbformat": 4,
 "nbformat_minor": 4
}
